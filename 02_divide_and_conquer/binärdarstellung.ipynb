{
 "cells": [
  {
   "cell_type": "markdown",
   "id": "0e2a3440",
   "metadata": {},
   "source": [
    "# Binärdarstellung"
   ]
  },
  {
   "cell_type": "code",
   "execution_count": 2,
   "id": "1719cc8f",
   "metadata": {},
   "outputs": [
    {
     "name": "stdout",
     "output_type": "stream",
     "text": [
      "101\n",
      "0101\n",
      "10101\n",
      "01010101\n",
      "101010101\n"
     ]
    }
   ],
   "source": [
    "def bin(n):\n",
    "  if n < 2:\n",
    "    return str(n)\n",
    "  \n",
    "  ret = str(n % 2)\n",
    "  val = bin(n - 1)\n",
    "  ret += val\n",
    "\n",
    "  return ret\n",
    "\n",
    "print(bin(3))\n",
    "print(bin(4))\n",
    "print(bin(5))\n",
    "print(bin(8))\n",
    "print(bin(9))"
   ]
  }
 ],
 "metadata": {
  "kernelspec": {
   "display_name": "Python 3",
   "language": "python",
   "name": "python3"
  },
  "language_info": {
   "codemirror_mode": {
    "name": "ipython",
    "version": 3
   },
   "file_extension": ".py",
   "mimetype": "text/x-python",
   "name": "python",
   "nbconvert_exporter": "python",
   "pygments_lexer": "ipython3",
   "version": "3.10.11"
  }
 },
 "nbformat": 4,
 "nbformat_minor": 5
}
