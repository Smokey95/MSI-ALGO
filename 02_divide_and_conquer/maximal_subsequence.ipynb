{
 "cells": [
  {
   "cell_type": "markdown",
   "id": "07ec7cd8",
   "metadata": {},
   "source": [
    "# Aufgabe aus Probeklausur: Maximale Subsequenz"
   ]
  },
  {
   "cell_type": "code",
   "execution_count": 2,
   "id": "629ad397",
   "metadata": {},
   "outputs": [
    {
     "name": "stdout",
     "output_type": "stream",
     "text": [
      "27\n"
     ]
    }
   ],
   "source": [
    "def maximal_subsequence(arr:list[int], left:int, right:int):\n",
    "  if right <= left:\n",
    "    return arr[left]\n",
    "\n",
    "  mid = int((left + right) / 2)\n",
    "\n",
    "  max_left = maximal_subsequence(arr, left, mid)\n",
    "  max_right = maximal_subsequence(arr, mid + 1, right)\n",
    "\n",
    "  max_crossing = find_max_crossing(arr, left, mid, right)\n",
    "\n",
    "  return max(max_left, max_crossing, max_right)\n",
    "\n",
    "def find_max_crossing(arr:list[int], left:int, mid:int, right:int):\n",
    "  # Finde maximale folge im linken Teilbaum\n",
    "  max_left = -1\n",
    "  tmp_left = 0\n",
    "  i = mid\n",
    "  while i >= left:\n",
    "    tmp_left += arr[i]\n",
    "    if tmp_left > max_left:\n",
    "      max_left = tmp_left\n",
    "    i -= 1\n",
    "\n",
    "  # Finde maximale folge im rechten Teilbaum\n",
    "  max_right = -1\n",
    "  tmp_right = 0\n",
    "  j = mid + 1\n",
    "  while j <= right:\n",
    "    tmp_right += arr[j]\n",
    "    if tmp_right > max_right:\n",
    "      max_right = tmp_right\n",
    "    j += 1\n",
    "  \n",
    "  return max_left + max_right\n",
    "\n",
    "a = [1, 2, -4, 6, 10, -10, 5, -1, 17, -15]\n",
    "print(maximal_subsequence(a, 0, len(a) - 1))"
   ]
  },
  {
   "cell_type": "code",
   "execution_count": 4,
   "id": "df2fb6f0",
   "metadata": {},
   "outputs": [
    {
     "name": "stdout",
     "output_type": "stream",
     "text": [
      "Sum: 27\n",
      "None\n",
      "subsequence: [6, 10, -10, 5, -1, 17]\n"
     ]
    }
   ],
   "source": [
    "def maximal_subsequence(arr:list[int], left:int, right:int):\n",
    "  if right <= left:\n",
    "    return (arr[left], left, right)\n",
    "\n",
    "  mid = int((left + right) / 2)\n",
    "\n",
    "  max_left = maximal_subsequence(arr, left, mid)\n",
    "  max_right = maximal_subsequence(arr, mid + 1, right)\n",
    "\n",
    "  max_crossing = find_max_crossing(arr, left, mid, right)\n",
    "\n",
    "  max_val = max(max_left[0], max_right[0], max_crossing[0])\n",
    "\n",
    "  if max_val == max_left[0]:\n",
    "    return (max_val, 0, 0)\n",
    "  if max_val == max_right[0]:\n",
    "    return (max_val, 0, 0)\n",
    "  if max_val == max_crossing[0]:\n",
    "    return (max_val, max_crossing[1], max_crossing[2])\n",
    "  \n",
    "  return NotImplemented \n",
    "\n",
    "def find_max_crossing(arr:list[int], left:int, mid:int, right:int):\n",
    "  # Finde maximale folge im linken Teilbaum\n",
    "  max_left = -1\n",
    "  tmp_left = 0\n",
    "  ind_left = 0\n",
    "  i = mid\n",
    "  while i >= left:\n",
    "    tmp_left += arr[i]\n",
    "    if tmp_left > max_left:\n",
    "      max_left = tmp_left\n",
    "      ind_left = i\n",
    "    i -= 1\n",
    "\n",
    "  # Finde maximale folge im rechten Teilbaum\n",
    "  max_right = -1\n",
    "  tmp_right = 0\n",
    "  ind_right = 0\n",
    "  j = mid + 1\n",
    "  while j <= right:\n",
    "    tmp_right += arr[j]\n",
    "    if tmp_right > max_right:\n",
    "      max_right = tmp_right\n",
    "      ind_right = j\n",
    "    j += 1\n",
    "  \n",
    "  return (max_left + max_right, ind_left, ind_right)\n",
    "\n",
    "a = [1, 2, -4, 6, 10, -10, 5, -1, 17, -15]\n",
    "ret = maximal_subsequence(a, 0, len(a) - 1)\n",
    "print(print(f\"Sum: {ret[0]}\"))\n",
    "sub_numbers = []\n",
    "for i in range(ret[1], ret[2] + 1):\n",
    "  sub_numbers.append(a[i])\n",
    "print(f\"subsequence: {sub_numbers}\")"
   ]
  }
 ],
 "metadata": {
  "kernelspec": {
   "display_name": "Python 3",
   "language": "python",
   "name": "python3"
  },
  "language_info": {
   "codemirror_mode": {
    "name": "ipython",
    "version": 3
   },
   "file_extension": ".py",
   "mimetype": "text/x-python",
   "name": "python",
   "nbconvert_exporter": "python",
   "pygments_lexer": "ipython3",
   "version": "3.10.11"
  }
 },
 "nbformat": 4,
 "nbformat_minor": 5
}
