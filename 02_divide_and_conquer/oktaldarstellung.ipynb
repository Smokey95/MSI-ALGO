{
 "cells": [
  {
   "cell_type": "markdown",
   "id": "12d8e5ae",
   "metadata": {},
   "source": [
    "# Aufgabe einer Probeklausur: Oktaldarstellung\n",
    "\n",
    "Entwerfen Sie einen Algorithmus nach dem Teile-und-Herrsche-Prinzip zur Berechnung der Oktaldarstellung einer natürlichen Zahl n."
   ]
  },
  {
   "cell_type": "code",
   "execution_count": 10,
   "id": "2349ef7c",
   "metadata": {},
   "outputs": [
    {
     "name": "stdout",
     "output_type": "stream",
     "text": [
      "7\n",
      "10\n",
      "11\n"
     ]
    }
   ],
   "source": [
    "def oktal(n):\n",
    "  if n < 8:\n",
    "    return str(n)\n",
    "  \n",
    "  ret = str(n % 8)\n",
    "  val:str = oktal(int(n/8))\n",
    "  val += ret\n",
    "\n",
    "  return val\n",
    "\n",
    "print(oktal(7))\n",
    "print(oktal(8))\n",
    "print(oktal(9))"
   ]
  }
 ],
 "metadata": {
  "kernelspec": {
   "display_name": "Python 3",
   "language": "python",
   "name": "python3"
  },
  "language_info": {
   "codemirror_mode": {
    "name": "ipython",
    "version": 3
   },
   "file_extension": ".py",
   "mimetype": "text/x-python",
   "name": "python",
   "nbconvert_exporter": "python",
   "pygments_lexer": "ipython3",
   "version": "3.10.11"
  }
 },
 "nbformat": 4,
 "nbformat_minor": 5
}
