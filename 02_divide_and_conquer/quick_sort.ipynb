{
 "cells": [
  {
   "cell_type": "markdown",
   "id": "a0d8ba06",
   "metadata": {},
   "source": [
    "# Quicksort"
   ]
  },
  {
   "cell_type": "code",
   "execution_count": null,
   "id": "52da0ec7",
   "metadata": {},
   "outputs": [],
   "source": [
    "val_list = [7, 9, 5, 1, 3, 6, 2, 0, 8, 4]\n",
    "#print(len(val_list))\n",
    "\n",
    "def quicksort(val_list:list):\n",
    "  n = len(val_list) - 1\n",
    "  \n",
    "  if n == 0:\n",
    "    return val_list[n]\n",
    "  \n",
    "  pivot = val_list[n]\n",
    "  print(pivot)\n",
    "  \n",
    "  left = []\n",
    "  right = []\n",
    "  for i in range(0, n):\n",
    "    if val_list[i] <= pivot:\n",
    "      left.append(val_list[i])\n",
    "    else:\n",
    "      right.append(val_list[i])\n",
    "  print(left)\n",
    "  print(right)\n",
    "  \n",
    "  ln = quicksort(left)\n",
    "  lr = quicksort(right)\n",
    "\n",
    "  return ln + [pivot] + lr\n",
    "\n",
    "quicksort(val_list)"
   ]
  },
  {
   "cell_type": "code",
   "execution_count": 5,
   "id": "28dee1b7",
   "metadata": {},
   "outputs": [
    {
     "name": "stdout",
     "output_type": "stream",
     "text": [
      "[7, 9, 5, 1, 3, 6, 2, 0, 8, 4]\n"
     ]
    },
    {
     "name": "stdout",
     "output_type": "stream",
     "text": [
      "Pivot Element: 4 at pos: 9\n",
      "Pivot Element: 1 at pos: 3\n",
      "Pivot Element: 2 at pos: 3\n",
      "Pivot Element: 5 at pos: 9\n",
      "Pivot Element: 6 at pos: 9\n",
      "Pivot Element: 9 at pos: 9\n",
      "Pivot Element: 8 at pos: 8\n",
      "[0, 1, 2, 3, 4, 5, 6, 7, 8, 9]\n"
     ]
    }
   ],
   "source": [
    "def sort(val_list:list, left:int, right:int, pivot_pos:int):\n",
    "  pivot = val_list[pivot_pos]\n",
    "  while left < right:\n",
    "    # Laufe die Liste von links nach rechts und suche Elemente die größer sind als als das Pivot Element\n",
    "    if val_list[left] > pivot:\n",
    "      # Laufe die Liste von rechts nach links und suche Elemente die kleiner sind als das Pivot Element\n",
    "      while right > left:\n",
    "        if val_list[right] < pivot:\n",
    "          # Vertausche die beiden gefunden Werte\n",
    "          tmp = val_list[left]\n",
    "          val_list[left] = val_list[right]\n",
    "          val_list[right] = tmp\n",
    "          break\n",
    "        right -= 1\n",
    "    if left == right:\n",
    "      break\n",
    "    left += 1\n",
    "\n",
    "  # Wenn die Schleife fertig ist steht left/right auf dem Index, zu welchem das Pivot getauscht werden muss\n",
    "  tmp = val_list[left]\n",
    "  val_list[left] = pivot\n",
    "  val_list[pivot_pos] = tmp\n",
    "\n",
    "  # liefere die neue Position des Pivot Element der aktuellen Rekursion zurück\n",
    "  return left\n",
    "\n",
    "def quicksort(val_list:list, left, right):\n",
    "  \n",
    "  if right <= left:\n",
    "    return\n",
    "  \n",
    "  pivot = val_list[right]\n",
    "  pivot_pos = right\n",
    "  print(f\"Pivot Element: {pivot} at pos: {pivot_pos}\")\n",
    "\n",
    "  pivot_pos = sort(val_list, left, right, pivot_pos)\n",
    "\n",
    "  quicksort(val_list, left, pivot_pos - 1)\n",
    "  quicksort(val_list, pivot_pos + 1, right)\n",
    "\n",
    "  return\n",
    "\n",
    "val_list = [7, 9, 5, 1, 3, 6, 2, 0, 8, 4]\n",
    "print(val_list)\n",
    "quicksort(val_list, 0, len(val_list) - 1)\n",
    "print(val_list)"
   ]
  }
 ],
 "metadata": {
  "kernelspec": {
   "display_name": "Python 3",
   "language": "python",
   "name": "python3"
  },
  "language_info": {
   "codemirror_mode": {
    "name": "ipython",
    "version": 3
   },
   "file_extension": ".py",
   "mimetype": "text/x-python",
   "name": "python",
   "nbconvert_exporter": "python",
   "pygments_lexer": "ipython3",
   "version": "3.10.11"
  }
 },
 "nbformat": 4,
 "nbformat_minor": 5
}
