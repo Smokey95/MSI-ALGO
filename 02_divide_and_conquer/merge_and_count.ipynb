{
 "cells": [
  {
   "cell_type": "markdown",
   "id": "de909270",
   "metadata": {},
   "source": [
    "# Merge and Count\n",
    "\n",
    "Gegeben sei eine Liste $a[1],..,a[n]$ aus $n$ ganzen Zahlen, d.h. $a[i] ∈ ℤ$ , die aufsteigend sortiert werden soll. \n",
    "Zwei Zahlen $a[i]$ und $a[j]$ mit $i<j$ heißt vertauschtes Paar, wenn $a[i]>a[j]$.\n",
    "\n",
    "\n",
    "Entwerfen Sie einen Algorithmus nach dem Teile-und-Herrsche-Prinzip zur Berechnung der Anzahl der vertauschen Paare in der Liste a ."
   ]
  },
  {
   "cell_type": "code",
   "execution_count": 10,
   "id": "fece14ad",
   "metadata": {},
   "outputs": [
    {
     "name": "stdout",
     "output_type": "stream",
     "text": [
      "[0, 1, 2, 3, 4, 5]\n",
      "3\n"
     ]
    }
   ],
   "source": [
    "import numpy as np\n",
    "\n",
    "a = [0, 5, 2, 4, 3, 1]\n",
    "\n",
    "def merge(a:list[int], left:int, mid:int, right:int):\n",
    "\n",
    "  i = mid + 1\n",
    "  j = mid\n",
    "  k = left\n",
    "\n",
    "  count = 0\n",
    "\n",
    "  aux = np.zeros(len(a), dtype=int)\n",
    "  \n",
    "  while i > left:\n",
    "    aux[i - 1] = a[i - 1]\n",
    "    i -= 1\n",
    "\n",
    "  while j < right:\n",
    "    aux[right+mid-j] = a[j+1]\n",
    "    j += 1\n",
    "\n",
    "  while k <= right:\n",
    "    if aux[j] < aux[i]:\n",
    "      a[k] = aux[j]\n",
    "      j -= 1\n",
    "      count += 1\n",
    "    else:\n",
    "      a[k] = aux[i]\n",
    "      i += 1\n",
    "    k += 1\n",
    "\n",
    "  return count\n",
    "\n",
    "def mergeSort(a:list[int], left:int, right:int):\n",
    "  if right <= left:\n",
    "    return\n",
    "  \n",
    "  mid = int((left + right) / 2)\n",
    "\n",
    "  mergeSort(a, left, mid)\n",
    "  mergeSort(a, mid + 1, right)\n",
    "\n",
    "  count = merge(a, left, mid, right)\n",
    "  return count\n",
    "\n",
    "count = mergeSort(a, 0, len(a) - 1)\n",
    "print(a)\n",
    "print(count)"
   ]
  }
 ],
 "metadata": {
  "kernelspec": {
   "display_name": "Python 3",
   "language": "python",
   "name": "python3"
  },
  "language_info": {
   "codemirror_mode": {
    "name": "ipython",
    "version": 3
   },
   "file_extension": ".py",
   "mimetype": "text/x-python",
   "name": "python",
   "nbconvert_exporter": "python",
   "pygments_lexer": "ipython3",
   "version": "3.10.11"
  }
 },
 "nbformat": 4,
 "nbformat_minor": 5
}
