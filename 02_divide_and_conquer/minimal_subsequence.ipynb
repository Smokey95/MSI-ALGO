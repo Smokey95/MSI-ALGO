{
 "cells": [
  {
   "cell_type": "markdown",
   "id": "9fc5ba87",
   "metadata": {},
   "source": [
    "# Minimale Teilsequenz\n",
    "\n",
    "Gegeben sei eine Liste $x[1], ..., x[n]$ aus $n\\ge0$ ganzen Zahlen, d.h $x[i] \\in \\mathbb{Z}$.\n",
    "Eine **minimale zusammenhängende Teilfolge** von $x$ ist eine Teilfolge $x[i], x[i+1],..., x[j]$ für die die Summe seiner Elemente unter allen zusammenhängenden Teilfolgen minimal ist.\n",
    "Sie Summe ist die **minimale zusammenhängende Teilsumme**.\n",
    "\n",
    "## Beispiel\n",
    "Liste ganzer Zahlen: $x = [3, 2, -4, -6, 3, -10, 1, -2, 16, -14]$.\n",
    "Minimale zusammenhänge Teilfolge: $[-4, -6, 3, -10, 1, -2]$.\n",
    "Minimale zusammenhängende Teilsumme: $-18$.\n",
    "\n",
    "## Aufgabe\n",
    "Entwerfen Sie einen Algorithmus nach dem Teile-und-Herrsche-Prinzip zur Berechnung der minimalen zusammenhängenden Teilsumme einer Liste $x$."
   ]
  },
  {
   "cell_type": "code",
   "execution_count": 6,
   "id": "083844ef",
   "metadata": {},
   "outputs": [
    {
     "name": "stdout",
     "output_type": "stream",
     "text": [
      "-17\n"
     ]
    }
   ],
   "source": [
    "def min_sub_sequence(array:list, low:int, high:int):\n",
    "\n",
    "  # Basisfall (Einelementige Liste)\n",
    "  if low == high:\n",
    "    return array[low]\n",
    "  \n",
    "  mid = int((low + high) / 2)\n",
    "\n",
    "  # Ermittle die linke und rechte Teilhälfte\n",
    "  left_min = min_sub_sequence(array, low, mid)\n",
    "  right_min = min_sub_sequence(array, mid + 1, high)\n",
    "\n",
    "  cross_min = min_crossing_subsequence(array, low, mid, high)\n",
    "\n",
    "  return min(left_min, right_min, cross_min)\n",
    "\n",
    "\n",
    "def min_crossing_subsequence(array:list, low:int, mid:int, high:int):\n",
    "  # Schleife zur Berechnung der linken Hälfte\n",
    "  left_tmp = 0 \n",
    "  left_sum = 10000  # inf.\n",
    "  # add index later\n",
    "  i = mid\n",
    "  while i >= low:\n",
    "    left_tmp += array[i]\n",
    "    if left_tmp <= left_sum:\n",
    "      left_sum = left_tmp\n",
    "    i -= 1\n",
    "\n",
    "  # Schleife zur Berechnung der rechten Hälfte\n",
    "  right_tmp = 0\n",
    "  right_sum = 10000\n",
    "  j = mid + 1\n",
    "  while j <= high:\n",
    "    right_tmp += array[j]\n",
    "    if right_tmp <= right_sum:\n",
    "      right_sum = right_tmp\n",
    "    j += 1\n",
    "\n",
    "  return left_sum + right_sum\n",
    "\n",
    "numbers = [3, 2, -4, -6, 3, -10, 1, 2, 16, -14]\n",
    "min_sum = min_sub_sequence(numbers, 0, len(numbers)-1)\n",
    "print(min_sum)"
   ]
  },
  {
   "cell_type": "code",
   "execution_count": 21,
   "id": "3afd8018",
   "metadata": {},
   "outputs": [
    {
     "name": "stdout",
     "output_type": "stream",
     "text": [
      "Sum: -18\n",
      "startindex of sequence: 2\n",
      "endindex of sequence: 7\n",
      "subsequence: [-4, -6, 3, -10, 1, -2]\n"
     ]
    }
   ],
   "source": [
    "def min_sub_sequence(array:list, low:int, high:int):\n",
    "\n",
    "  # Basisfall (Einelementige Liste)\n",
    "  if low == high:\n",
    "    return (array[low], low, high)\n",
    "  \n",
    "  mid = int((low + high) / 2)\n",
    "\n",
    "  # Ermittle die linke und rechte Teilhälfte\n",
    "  left_min = min_sub_sequence(array, low, mid)\n",
    "  right_min = min_sub_sequence(array, mid + 1, high)\n",
    "\n",
    "  cross_min = min_crossing_subsequence(array, low, mid, high)\n",
    "\n",
    "  min_val = min(left_min[0], right_min[0], cross_min[0])\n",
    "\n",
    "  if min_val == left_min[0]:\n",
    "    return (min_val, 0, 0)\n",
    "  if min_val == right_min[0]:\n",
    "    return (min_val, 0, 0)\n",
    "  if min_val == cross_min[0]:\n",
    "    return (min_val, cross_min[1], cross_min[2])\n",
    "  \n",
    "  return NotImplemented \n",
    "\n",
    "\n",
    "def min_crossing_subsequence(array:list, low:int, mid:int, high:int):\n",
    "  # Schleife zur Berechnung der linken Hälfte\n",
    "  left_tmp = 0 \n",
    "  left_sum = 10000  # inf.\n",
    "  left_index  = 0\n",
    "\n",
    "  i = mid\n",
    "  while i >= low:\n",
    "    left_tmp += array[i]\n",
    "    if left_tmp <= left_sum:\n",
    "      left_sum = left_tmp\n",
    "      left_index = i\n",
    "    i -= 1\n",
    "\n",
    "  # Schleife zur Berechnung der rechten Hälfte\n",
    "  right_tmp = 0\n",
    "  right_sum = 10000\n",
    "  right_index = 0\n",
    "\n",
    "  j = mid + 1\n",
    "  while j <= high:\n",
    "    right_tmp += array[j]\n",
    "    if right_tmp <= right_sum:\n",
    "      right_sum = right_tmp\n",
    "      right_index = j\n",
    "    j += 1\n",
    "\n",
    "  return ((left_sum + right_sum), left_index, right_index)\n",
    "\n",
    "numbers = [3, 2, -4, -6, 3, -10, 1, -2, 16, -14]\n",
    "min_sum = min_sub_sequence(numbers, 0, len(numbers)-1)\n",
    "print(f\"Sum: {min_sum[0]}\")\n",
    "print(f\"startindex of sequence: {min_sum[1]}\")\n",
    "print(f\"endindex of sequence: {min_sum[2]}\")\n",
    "sub_numbers = []\n",
    "for i in range(min_sum[1], min_sum[2] + 1):\n",
    "  sub_numbers.append(numbers[i])\n",
    "print(f\"subsequence: {sub_numbers}\")"
   ]
  },
  {
   "cell_type": "markdown",
   "id": "0a319123",
   "metadata": {},
   "source": []
  }
 ],
 "metadata": {
  "kernelspec": {
   "display_name": "Python 3",
   "language": "python",
   "name": "python3"
  },
  "language_info": {
   "codemirror_mode": {
    "name": "ipython",
    "version": 3
   },
   "file_extension": ".py",
   "mimetype": "text/x-python",
   "name": "python",
   "nbconvert_exporter": "python",
   "pygments_lexer": "ipython3",
   "version": "3.10.11"
  }
 },
 "nbformat": 4,
 "nbformat_minor": 5
}
