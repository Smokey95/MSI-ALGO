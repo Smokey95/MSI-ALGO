{
 "cells": [
  {
   "cell_type": "markdown",
   "id": "f612093f",
   "metadata": {},
   "source": [
    "# Aufgabe einer Probeklausur\n",
    "\n",
    "Entwerfen Sie ein dynamische Programm, das die folgenden rekursiv definieren Zahlen berechnet:\n",
    "\n",
    "$$B_0 = 2$$\n",
    "\n",
    "$$B_n = n + \\frac{1}{n + 1} * \\sum_{i=1}^n (B_{i-1} + B_{n-i})$$"
   ]
  },
  {
   "cell_type": "code",
   "execution_count": 5,
   "id": "ae99f463",
   "metadata": {},
   "outputs": [
    {
     "name": "stdout",
     "output_type": "stream",
     "text": [
      "B1 = 3.0\n",
      "B2 = 5.333333333333333\n",
      "B3 = 8.166666666666666\n",
      "B10 = 36.47705627705628\n"
     ]
    }
   ],
   "source": [
    "def dynB(n):\n",
    "  if n < 1:\n",
    "    return Exception\n",
    "  \n",
    "  BArr = [2]\n",
    "  \n",
    "  for i in range(1, n + 1):\n",
    "    BArr.append(0)\n",
    "\n",
    "  i = 1\n",
    "  while i <= n:\n",
    "    sum = 0\n",
    "    j = 1\n",
    "    while j <= i:\n",
    "      sum += (BArr[j-1] + BArr[i-j])\n",
    "      j += 1\n",
    "    BArr[i] = i + (1/(i+1)) * sum\n",
    "    i += 1\n",
    "  \n",
    "  return BArr[i - 1]\n",
    "\n",
    "print(f\"B1 = {dynB(1)}\")\n",
    "print(f\"B2 = {dynB(2)}\")\n",
    "print(f\"B3 = {dynB(3)}\")\n",
    "print(f\"B10 = {dynB(10)}\")\n",
    "  "
   ]
  }
 ],
 "metadata": {
  "kernelspec": {
   "display_name": "Python 3",
   "language": "python",
   "name": "python3"
  },
  "language_info": {
   "codemirror_mode": {
    "name": "ipython",
    "version": 3
   },
   "file_extension": ".py",
   "mimetype": "text/x-python",
   "name": "python",
   "nbconvert_exporter": "python",
   "pygments_lexer": "ipython3",
   "version": "3.10.11"
  }
 },
 "nbformat": 4,
 "nbformat_minor": 5
}
