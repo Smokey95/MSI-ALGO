{
 "cells": [
  {
   "cell_type": "markdown",
   "id": "af50246c",
   "metadata": {},
   "source": [
    "# Maximum Suche\n",
    "\n",
    "**Gegeben**: Array `a[]` mit `n` verschiedenen ganzzahligen Elementen.\n",
    "\n",
    "**Gesucht**: Index `j` des ersten Elements, das die größte Zahl im Array enthält."
   ]
  },
  {
   "cell_type": "code",
   "execution_count": 3,
   "id": "293c5d72",
   "metadata": {},
   "outputs": [],
   "source": [
    "def max_element(array):\n",
    "  max = array[0]\n",
    "  pos = 0\n",
    "\n",
    "  for i in range(0, len(array)):\n",
    "    if array[i] > max:\n",
    "      max = array[i]\n",
    "      pos = i\n",
    "  return pos"
   ]
  },
  {
   "cell_type": "code",
   "execution_count": null,
   "id": "a92ee367",
   "metadata": {},
   "outputs": [
    {
     "name": "stdout",
     "output_type": "stream",
     "text": [
      "max element in test_1: 5 at pos 4\n",
      "max element in test_2: 5 at pos 2\n",
      "max element in test_3: 100 at pos 1\n"
     ]
    }
   ],
   "source": [
    "test_1 = [1, 2, 3, 4, 5]\n",
    "test_2 = [5, 3, 5, 4, 1]\n",
    "test_3 = [10, 100, 90, 75, 69, 32, 74]\n",
    "\n",
    "max_test_1 = max_element(test_1)\n",
    "max_test_2 = max_element(test_2)\n",
    "max_test_3 = max_element(test_3)\n",
    "\n",
    "print(f\"max element in test_1: {test_1[max_test_1]} at pos {max_test_1}\")\n",
    "print(f\"max element in test_2: {test_2[max_test_2]} at pos {max_test_2}\")\n",
    "print(f\"max element in test_3: {test_3[max_test_3]} at pos {max_test_3}\")"
   ]
  }
 ],
 "metadata": {
  "kernelspec": {
   "display_name": "Python 3",
   "language": "python",
   "name": "python3"
  },
  "language_info": {
   "codemirror_mode": {
    "name": "ipython",
    "version": 3
   },
   "file_extension": ".py",
   "mimetype": "text/x-python",
   "name": "python",
   "nbconvert_exporter": "python",
   "pygments_lexer": "ipython3",
   "version": "3.10.11"
  }
 },
 "nbformat": 4,
 "nbformat_minor": 5
}
