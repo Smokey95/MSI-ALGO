{
 "cells": [
  {
   "cell_type": "markdown",
   "id": "33a76f5e",
   "metadata": {},
   "source": [
    "# Wechselgeld\n",
    "\n",
    "Greedy-Algorithmus zur Berechnung des Wechselgeldes"
   ]
  },
  {
   "cell_type": "markdown",
   "id": "9803c554",
   "metadata": {},
   "source": [
    "**Achtung:** Bei diesem Code kann es aufgrund von Gleitkomma-Genauigkeit zu nummerischen Ungenauigkeiten kommen. Es wird empfohlen, mit Ganzzahlen zu arbeiten, um solche Probleme zu vermeiden."
   ]
  },
  {
   "cell_type": "code",
   "execution_count": 27,
   "id": "3c6e0ddb",
   "metadata": {},
   "outputs": [
    {
     "name": "stdout",
     "output_type": "stream",
     "text": [
      "10\n",
      "5\n",
      "2\n",
      "0.5\n",
      "0.1\n",
      "0.05\n",
      "0.02\n",
      "0.02\n",
      "Wechselgeld: 17.69€ in folgender Stückelung: [10, 5, 2, 0.5, 0.1, 0.05, 0.02, 0.02]\n"
     ]
    }
   ],
   "source": [
    "def wechselgeld(betrag):\n",
    "  herausgegeben = 0\n",
    "  arr_herausgegeben = []\n",
    "  rest = betrag\n",
    "\n",
    "  while herausgegeben < betrag:\n",
    "    best = get_best(rest)\n",
    "    herausgegeben += best\n",
    "    arr_herausgegeben.append(best)\n",
    "    rest -= best\n",
    "\n",
    "  return (herausgegeben, arr_herausgegeben)\n",
    "\n",
    "def get_best(betrag):\n",
    "  geld = [500, 200, 100, 50, 20, 10, 5, 2, 1, 0.50, 0.20, 0.10, 0.05, 0.02, 0.01]\n",
    "  for best in geld:\n",
    "    if best <= betrag:\n",
    "      print(best)\n",
    "      return best\n",
    "\n",
    "amount = 17.69\n",
    "(rueckgeld, arr_rueckgeld) = wechselgeld(amount)\n",
    "print(f\"Wechselgeld: {rueckgeld}€ in folgender Stückelung: {arr_rueckgeld}\")"
   ]
  },
  {
   "cell_type": "code",
   "execution_count": 30,
   "id": "cb517cab",
   "metadata": {},
   "outputs": [
    {
     "name": "stdout",
     "output_type": "stream",
     "text": [
      "1769\n",
      "1000\n",
      "500\n",
      "200\n",
      "50\n",
      "10\n",
      "5\n",
      "2\n",
      "2\n"
     ]
    },
    {
     "ename": "TypeError",
     "evalue": "unsupported operand type(s) for /: 'NoneType' and 'int'",
     "output_type": "error",
     "traceback": [
      "\u001b[1;31m---------------------------------------------------------------------------\u001b[0m",
      "\u001b[1;31mTypeError\u001b[0m                                 Traceback (most recent call last)",
      "Cell \u001b[1;32mIn[30], line 23\u001b[0m\n\u001b[0;32m     20\u001b[0m       \u001b[38;5;28;01mreturn\u001b[39;00m best\n\u001b[0;32m     22\u001b[0m amount \u001b[38;5;241m=\u001b[39m \u001b[38;5;241m17.69\u001b[39m\n\u001b[1;32m---> 23\u001b[0m (rueckgeld, arr_rueckgeld) \u001b[38;5;241m=\u001b[39m \u001b[43mwechselgeld\u001b[49m\u001b[43m(\u001b[49m\u001b[43mamount\u001b[49m\u001b[43m)\u001b[49m\n\u001b[0;32m     24\u001b[0m \u001b[38;5;28mprint\u001b[39m(\u001b[38;5;124mf\u001b[39m\u001b[38;5;124m\"\u001b[39m\u001b[38;5;124mWechselgeld: \u001b[39m\u001b[38;5;132;01m{\u001b[39;00mrueckgeld\u001b[38;5;132;01m}\u001b[39;00m\u001b[38;5;124m€ in folgender Stückelung: \u001b[39m\u001b[38;5;132;01m{\u001b[39;00marr_rueckgeld\u001b[38;5;132;01m}\u001b[39;00m\u001b[38;5;124m\"\u001b[39m)\n",
      "Cell \u001b[1;32mIn[30], line 9\u001b[0m, in \u001b[0;36mwechselgeld\u001b[1;34m(betrag)\u001b[0m\n\u001b[0;32m      7\u001b[0m \u001b[38;5;28;01mwhile\u001b[39;00m herausgegeben \u001b[38;5;241m<\u001b[39m (betrag \u001b[38;5;241m*\u001b[39m \u001b[38;5;241m100\u001b[39m):\n\u001b[0;32m      8\u001b[0m   best \u001b[38;5;241m=\u001b[39m get_best(rest)\n\u001b[1;32m----> 9\u001b[0m   herausgegeben \u001b[38;5;241m+\u001b[39m\u001b[38;5;241m=\u001b[39m (\u001b[43mbest\u001b[49m\u001b[43m \u001b[49m\u001b[38;5;241;43m/\u001b[39;49m\u001b[43m \u001b[49m\u001b[38;5;241;43m100\u001b[39;49m)\n\u001b[0;32m     10\u001b[0m   arr_herausgegeben\u001b[38;5;241m.\u001b[39mappend(best \u001b[38;5;241m/\u001b[39m \u001b[38;5;241m100\u001b[39m)\n\u001b[0;32m     11\u001b[0m   rest \u001b[38;5;241m-\u001b[39m\u001b[38;5;241m=\u001b[39m best\n",
      "\u001b[1;31mTypeError\u001b[0m: unsupported operand type(s) for /: 'NoneType' and 'int'"
     ]
    }
   ],
   "source": [
    "def wechselgeld(betrag):\n",
    "  herausgegeben = 0\n",
    "  arr_herausgegeben = []\n",
    "  rest = int(betrag * 100)\n",
    "  print(rest)\n",
    "\n",
    "  while herausgegeben < (betrag * 100):\n",
    "    best = get_best(rest)\n",
    "    herausgegeben += (best / 100)\n",
    "    arr_herausgegeben.append(best / 100)\n",
    "    rest -= best\n",
    "\n",
    "  return (herausgegeben, arr_herausgegeben)\n",
    "\n",
    "def get_best(betrag):\n",
    "  geld = [50_000, 20_000, 10_000, 5_000, 2_000, 1_000, 500, 200, 100, 50, 20, 10, 5, 2, 1]\n",
    "  for best in geld:\n",
    "    if best <= betrag:\n",
    "      print(best)\n",
    "      return best\n",
    "\n",
    "amount = 17.69\n",
    "(rueckgeld, arr_rueckgeld) = wechselgeld(amount)\n",
    "print(f\"Wechselgeld: {rueckgeld}€ in folgender Stückelung: {arr_rueckgeld}\")"
   ]
  }
 ],
 "metadata": {
  "kernelspec": {
   "display_name": "Python 3",
   "language": "python",
   "name": "python3"
  },
  "language_info": {
   "codemirror_mode": {
    "name": "ipython",
    "version": 3
   },
   "file_extension": ".py",
   "mimetype": "text/x-python",
   "name": "python",
   "nbconvert_exporter": "python",
   "pygments_lexer": "ipython3",
   "version": "3.10.11"
  }
 },
 "nbformat": 4,
 "nbformat_minor": 5
}
