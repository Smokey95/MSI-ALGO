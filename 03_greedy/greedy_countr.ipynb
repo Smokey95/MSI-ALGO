{
 "cells": [
  {
   "cell_type": "markdown",
   "id": "9b357eec",
   "metadata": {},
   "source": [
    "# Kartenfärbung"
   ]
  },
  {
   "cell_type": "code",
   "execution_count": 6,
   "id": "1ae0a1ce",
   "metadata": {},
   "outputs": [
    {
     "name": "stdout",
     "output_type": "stream",
     "text": [
      "[[0 1 1 0 1 0]\n",
      " [1 0 1 1 1 0]\n",
      " [1 1 0 1 0 0]\n",
      " [0 1 1 0 0 1]\n",
      " [1 1 0 0 0 0]\n",
      " [0 0 0 1 0 0]]\n",
      "6\n",
      "[0, 1, 2, 0, 2, 1]\n"
     ]
    }
   ],
   "source": [
    "import numpy as np\n",
    "\n",
    "a = [[0, 1, 1, 0, 1, 0], \n",
    "     [1, 0, 1, 1, 1, 0],\n",
    "     [1, 1, 0, 1, 0, 0],\n",
    "     [0, 1, 1, 0, 0, 1],\n",
    "     [1, 1, 0, 0, 0, 0],\n",
    "     [0, 0, 0, 1, 0 ,0]]\n",
    "\n",
    "a = np.array(a)\n",
    "\n",
    "def greedycoloring(a:list[list[int]]):\n",
    "  # Setze die Farbe des ersten Land (oben links in Array, auf erste Farbe)\n",
    "  n = len(a)\n",
    "  colorlist = [0]\n",
    "  print(n)\n",
    "  \n",
    "  for i in range(1, n):\n",
    "    curr_coll = 0\n",
    "    for j in range(0, i + 1):\n",
    "      # Basisfall, Land erreicht, Farbe setzen\n",
    "      if j == i:\n",
    "        colorlist.append(curr_coll)\n",
    "      \n",
    "      # Grenze zu Land j?\n",
    "      if a[i][j] == 1:\n",
    "        # Land j gleiche Farbe wie aktuelle Farbe?\n",
    "        if colorlist[j] == curr_coll:\n",
    "          curr_coll += 1\n",
    "  \n",
    "  return colorlist\n",
    "\n",
    "print(a)\n",
    "collist = greedycoloring(a)\n",
    "print(collist)"
   ]
  }
 ],
 "metadata": {
  "kernelspec": {
   "display_name": "Python 3",
   "language": "python",
   "name": "python3"
  },
  "language_info": {
   "codemirror_mode": {
    "name": "ipython",
    "version": 3
   },
   "file_extension": ".py",
   "mimetype": "text/x-python",
   "name": "python",
   "nbconvert_exporter": "python",
   "pygments_lexer": "ipython3",
   "version": "3.10.11"
  }
 },
 "nbformat": 4,
 "nbformat_minor": 5
}
