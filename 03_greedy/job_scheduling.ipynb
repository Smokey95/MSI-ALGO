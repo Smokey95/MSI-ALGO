{
 "cells": [
  {
   "cell_type": "markdown",
   "id": "84cf8c96",
   "metadata": {},
   "source": [
    "# Job Scheduling Problem"
   ]
  },
  {
   "cell_type": "code",
   "execution_count": 18,
   "id": "1de505d1",
   "metadata": {},
   "outputs": [
    {
     "name": "stdout",
     "output_type": "stream",
     "text": [
      "Joblist (before):\n",
      "Job 1: 3\n",
      "Job 2: 5\n",
      "Job 3: 6\n",
      "Job 4: 10\n",
      "Job 5: 11\n",
      "Job 6: 14\n",
      "Job 7: 15\n",
      "Job 8: 18\n",
      "Job 9: 20\n",
      "Joblist (after):\n",
      "Processor: 1 Runtime: 28 Jobs: Job((1, 3)), Job((4, 10)), Job((7, 15)), \n",
      "Processor: 2 Runtime: 34 Jobs: Job((2, 5)), Job((5, 11)), Job((8, 18)), \n",
      "Processor: 3 Runtime: 40 Jobs: Job((3, 6)), Job((6, 14)), Job((9, 20)), \n"
     ]
    }
   ],
   "source": [
    "class Job:\n",
    "    def __init__(self, id, runtime):\n",
    "        self.id = id\n",
    "        self.runtime = runtime\n",
    "\n",
    "    def __str__(self):\n",
    "        return f\"Job {self.id}: {self.runtime}\"\n",
    "    \n",
    "    def get_runtime(self):\n",
    "        return self.runtime\n",
    "    \n",
    "    def get_id(self):\n",
    "        return self.id\n",
    "    \n",
    "class Processor:\n",
    "    def __init__(self, id):\n",
    "        self.id = id\n",
    "        self.joblist = []\n",
    "        self.runtime = 0\n",
    "\n",
    "    def __str__(self):\n",
    "        retval = f\"Processor: {self.id} Runtime: {self.runtime} Jobs: \"\n",
    "        for jobs in self.joblist:\n",
    "            retval += f\"Job({jobs.get_id(), jobs.get_runtime()}), \"\n",
    "        return retval\n",
    "\n",
    "    def add_job(self, job:Job):\n",
    "        self.joblist.append(job)\n",
    "        self.runtime += job.get_runtime()\n",
    "\n",
    "    def get_runtime(self):\n",
    "        return self.runtime\n",
    "\n",
    "job_list = [Job(1, 3), Job(2, 5), Job(3, 6), Job(4, 10), Job(5, 11), Job(6, 14), Job(7, 15), Job(8, 18), Job(9, 20)]\n",
    "processors = [Processor(1), Processor(2), Processor(3)]\n",
    "\n",
    "# ALGORITHMUS\n",
    "\n",
    "print(f\"Joblist (before):\")\n",
    "for job in job_list:\n",
    "    print(f\"{job}\")\n",
    "\n",
    "def get_best_job(jobs:list):\n",
    "    best_runtime = 100000000000 # better with max int or max runtime\n",
    "    best_job = 0\n",
    "\n",
    "    for job in jobs:\n",
    "        curr = job.get_runtime()\n",
    "        if curr <= best_runtime:\n",
    "            best_runtime = curr\n",
    "            best_job = job\n",
    "\n",
    "    # remove best job from list (not secure in multi thread env.)\n",
    "    jobs.remove(best_job)\n",
    "    return best_job\n",
    "\n",
    "while len(job_list) > 0:\n",
    "    for processor in processors:\n",
    "        curr_best = get_best_job(job_list)\n",
    "        processor.add_job(curr_best)\n",
    "\n",
    "print(f\"Joblist (after):\")\n",
    "for job in job_list:\n",
    "    print(f\"{job}\")\n",
    "\n",
    "for processor in processors:\n",
    "    print(f\"{processor}\")\n"
   ]
  }
 ],
 "metadata": {
  "kernelspec": {
   "display_name": "Python 3",
   "language": "python",
   "name": "python3"
  },
  "language_info": {
   "codemirror_mode": {
    "name": "ipython",
    "version": 3
   },
   "file_extension": ".py",
   "mimetype": "text/x-python",
   "name": "python",
   "nbconvert_exporter": "python",
   "pygments_lexer": "ipython3",
   "version": "3.10.11"
  }
 },
 "nbformat": 4,
 "nbformat_minor": 5
}
