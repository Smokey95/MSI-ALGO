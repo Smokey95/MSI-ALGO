{
 "cells": [
  {
   "cell_type": "markdown",
   "id": "d8702d5e",
   "metadata": {},
   "source": [
    "# Partitionsproblem mit der Greedy Strategie"
   ]
  },
  {
   "cell_type": "code",
   "execution_count": 6,
   "id": "c064c8b1",
   "metadata": {},
   "outputs": [
    {
     "name": "stdout",
     "output_type": "stream",
     "text": [
      "Solution for l1: valid: True list1:[3, 1, 1] sum1: 5 list2: [2, 2, 1] sum2: 5\n",
      "Solution for l1: valid: False list1:[280] sum1: 280 list2: [3, 2, 1, 1, 1] sum2: 8\n"
     ]
    }
   ],
   "source": [
    "def greedy_part(list:list):\n",
    "  list.sort(reverse=True)\n",
    "\n",
    "  list1 = []\n",
    "  sum1 = 0\n",
    "  list2 = []\n",
    "  sum2 = 0\n",
    "\n",
    "  for elm in list:\n",
    "    if sum1 <= sum2:\n",
    "      list1.append(elm)\n",
    "      sum1 += elm\n",
    "    else:\n",
    "      list2.append(elm)\n",
    "      sum2 += elm\n",
    "\n",
    "  valid = True\n",
    "\n",
    "  if sum1 != sum2:\n",
    "    valid = False\n",
    "\n",
    "  if (sum1 + sum2) % 2:\n",
    "    valid = False\n",
    "  \n",
    "  return (valid, list1, sum1, list2, sum2)\n",
    "\n",
    "l1 = [1, 3, 2, 1, 2, 1]\n",
    "l1_sol = greedy_part(l1)\n",
    "print(f\"Solution for l1: valid: {l1_sol[0]} list1:{l1_sol[1]} sum1: {l1_sol[2]} list2: {l1_sol[3]} sum2: {l1_sol[4]}\")\n",
    "\n",
    "l2 = [1, 3, 280, 1, 2, 1]\n",
    "l2_sol = greedy_part(l2)\n",
    "print(f\"Solution for l1: valid: {l2_sol[0]} list1:{l2_sol[1]} sum1: {l2_sol[2]} list2: {l2_sol[3]} sum2: {l2_sol[4]}\")"
   ]
  }
 ],
 "metadata": {
  "kernelspec": {
   "display_name": "Python 3",
   "language": "python",
   "name": "python3"
  },
  "language_info": {
   "codemirror_mode": {
    "name": "ipython",
    "version": 3
   },
   "file_extension": ".py",
   "mimetype": "text/x-python",
   "name": "python",
   "nbconvert_exporter": "python",
   "pygments_lexer": "ipython3",
   "version": "3.10.11"
  }
 },
 "nbformat": 4,
 "nbformat_minor": 5
}
