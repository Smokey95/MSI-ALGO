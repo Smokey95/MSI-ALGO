{
 "cells": [
  {
   "cell_type": "markdown",
   "id": "c71552ed",
   "metadata": {},
   "source": [
    "# Fraktionales Rucksackproblem"
   ]
  },
  {
   "cell_type": "markdown",
   "id": "b3a4ec9d",
   "metadata": {},
   "source": [
    "Der folgende Code implementiert das fraktionale Rucksackproblem, mit der Greedy Strategie"
   ]
  },
  {
   "cell_type": "code",
   "execution_count": null,
   "id": "286fc75f",
   "metadata": {},
   "outputs": [
    {
     "name": "stdout",
     "output_type": "stream",
     "text": [
      "Rucksack Kapazität: 0kg\n",
      "Value: 10kg / 60€\n",
      "Value: 20kg / 100€\n",
      "Value: 20kg / 80.0€\n",
      "\n"
     ]
    }
   ],
   "source": [
    "class Value:\n",
    "  def __init__(self, gewicht, wert):\n",
    "    self.gewicht = gewicht\n",
    "    self.wert = wert\n",
    "  \n",
    "  def __str__(self):\n",
    "    return f\"Value: {self.gewicht}kg / {self.wert}€\"\n",
    "\n",
    "class Rucksack:\n",
    "  def __init__(self, kapazität):\n",
    "    self.kapazität = kapazität\n",
    "    self.values = []\n",
    "  \n",
    "  def __str__(self):\n",
    "    retval = f\"Rucksack Kapazität: {self.kapazität}kg\\n\"\n",
    "    for val in self.values:\n",
    "      retval += str(val) + \"\\n\"\n",
    "    return retval\n",
    "  \n",
    "def frakBag(values:list[Value], bag:Rucksack):\n",
    "  \n",
    "  while bag.kapazität > 0:\n",
    "    \n",
    "    # Greedy Schritt (Suche Teil mit maximalem Wert bei unsortierter Liste)\n",
    "    i = 0\n",
    "    j = 0\n",
    "    high_reward = values[i].wert / values[i].gewicht\n",
    "    while i <= (len(values) - 1):\n",
    "      curr_reward = values[i].wert / values[i].gewicht\n",
    "      if curr_reward > high_reward:\n",
    "        high_reward = curr_reward\n",
    "        j = i \n",
    "      i += 1\n",
    "    \n",
    "    # Wertvollstes Teil nehmen\n",
    "    if (bag.kapazität - values[j].gewicht) > 0:\n",
    "      # Nehme ganzes Teil mit\n",
    "      bag.values.append(values[j])\n",
    "      bag.kapazität -= values[j].gewicht\n",
    "      values.pop(j)\n",
    "    else:\n",
    "      diff_gewicht = bag.kapazität\n",
    "      diff_wert = (values[j].wert / values[j].gewicht) * diff_gewicht\n",
    "      valuePart = Value(diff_gewicht, diff_wert)\n",
    "      bag.values.append(valuePart)\n",
    "      bag.kapazität = 0\n",
    "\n",
    "v1 = Value(10, 60)\n",
    "v2 = Value(20, 100)\n",
    "v3 = Value(30, 120)\n",
    "values = [v1, v2, v3]\n",
    "G = Rucksack(50)\n",
    "\n",
    "frakBag(values, G)\n",
    "print(G)"
   ]
  },
  {
   "cell_type": "code",
   "execution_count": 24,
   "id": "8f879cab",
   "metadata": {},
   "outputs": [
    {
     "name": "stdout",
     "output_type": "stream",
     "text": [
      "Rucksack Kapazität: 0kg\n",
      "Value: 10kg / 60€\n",
      "Value: 20kg / 100€\n",
      "Value: 20kg / 80.0€\n",
      "\n"
     ]
    }
   ],
   "source": [
    "class Value:\n",
    "  def __init__(self, gewicht, wert):\n",
    "    self.gewicht = gewicht\n",
    "    self.wert = wert\n",
    "  \n",
    "  def __str__(self):\n",
    "    return f\"Value: {self.gewicht}kg / {self.wert}€\"\n",
    "  \n",
    "  def __lt__(self, other):\n",
    "    if not isinstance(other, Value):\n",
    "      return NotImplemented\n",
    "    return (self.wert / self.gewicht) < (other.wert / other.gewicht)\n",
    "  \n",
    "  def __gt__(self, other):\n",
    "        if not isinstance(other, Value):\n",
    "            return NotImplemented\n",
    "        return (self.wert / self.gewicht) > (other.wert / other.gewicht)\n",
    "\n",
    "class Rucksack:\n",
    "  def __init__(self, kapazität):\n",
    "    self.kapazität = kapazität\n",
    "    self.values = []\n",
    "  \n",
    "  def __str__(self):\n",
    "    retval = f\"Rucksack Kapazität: {self.kapazität}kg\\n\"\n",
    "    for val in self.values:\n",
    "      retval += str(val) + \"\\n\"\n",
    "    return retval\n",
    "  \n",
    "def frakBag(values:list[Value], bag:Rucksack):\n",
    "\n",
    "  # Sortiere Liste aufsteigend nach Wert\n",
    "  values.sort(reverse=True)\n",
    "  \n",
    "  while bag.kapazität > 0:\n",
    "    \n",
    "    # Greedy Schritt (Suche Teil mit maximalem Wert bei unsortierter Liste)\n",
    "    high_reward:Value = values.pop(0)\n",
    "    \n",
    "    # Wertvollstes Teil nehmen\n",
    "    if (bag.kapazität - high_reward.gewicht) > 0:\n",
    "      # Nehme ganzes Teil mit\n",
    "      bag.values.append(high_reward)\n",
    "      bag.kapazität -= high_reward.gewicht\n",
    "    else:\n",
    "      diff_gewicht = bag.kapazität\n",
    "      diff_wert = (high_reward.wert / high_reward.gewicht) * diff_gewicht\n",
    "      valuePart = Value(diff_gewicht, diff_wert)\n",
    "      bag.values.append(valuePart)\n",
    "      bag.kapazität = 0\n",
    "\n",
    "v1 = Value(10, 60)\n",
    "v2 = Value(20, 100)\n",
    "v3 = Value(30, 120)\n",
    "values = [v2, v1, v3]\n",
    "#for val in values:\n",
    "#  print(val)\n",
    "#values.sort(reverse=True)\n",
    "#for val in values:\n",
    "#  print(val)\n",
    "G = Rucksack(50)\n",
    "\n",
    "frakBag(values, G)\n",
    "print(G)"
   ]
  }
 ],
 "metadata": {
  "kernelspec": {
   "display_name": "Python 3",
   "language": "python",
   "name": "python3"
  },
  "language_info": {
   "codemirror_mode": {
    "name": "ipython",
    "version": 3
   },
   "file_extension": ".py",
   "mimetype": "text/x-python",
   "name": "python",
   "nbconvert_exporter": "python",
   "pygments_lexer": "ipython3",
   "version": "3.10.11"
  }
 },
 "nbformat": 4,
 "nbformat_minor": 5
}
