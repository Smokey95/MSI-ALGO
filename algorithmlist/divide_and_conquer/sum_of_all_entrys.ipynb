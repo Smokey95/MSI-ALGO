{
 "cells": [
  {
   "cell_type": "markdown",
   "id": "c5ac854c",
   "metadata": {},
   "source": [
    "# Summe der Einträge"
   ]
  },
  {
   "cell_type": "markdown",
   "id": "362e5a76",
   "metadata": {},
   "source": [
    "## Naive Implementierung ohne Teile und Herrsche\n",
    "\n",
    "Der einfachste und direkteste Weg, die Summe aller Einträge in einer Liste zu berechnen, ist die Verwendung einer Schleife, um jeden Eintrag zu addieren. Hier ist ein einfaches Beispiel in Python:"
   ]
  },
  {
   "cell_type": "code",
   "execution_count": 3,
   "id": "e5235e18",
   "metadata": {},
   "outputs": [
    {
     "name": "stdout",
     "output_type": "stream",
     "text": [
      "number list: [5, 2, 3, 10, 28, 1, 58, 34, 0, 23]\n",
      "sum of list: 164\n"
     ]
    }
   ],
   "source": [
    "def sum_without_dac(array):\n",
    "  sum = 0\n",
    "  for element in array:\n",
    "    sum += element\n",
    "  return sum\n",
    "\n",
    "number_list = [5, 2, 3, 10, 28, 1, 58, 34, 0, 23]\n",
    "sum_list = sum_without_dac(number_list)\n",
    "\n",
    "print(f\"number list: {number_list}\")\n",
    "print(f\"sum of list: {sum_list}\")"
   ]
  },
  {
   "cell_type": "markdown",
   "id": "e61ea878",
   "metadata": {},
   "source": [
    "### Laufzeit der naiven Implementierung\n",
    "\n",
    "Da hier jeder Eintrag in der Liste mindestens einmal besucht wird ergibt sich die Laufzeit als:\n",
    "\n",
    "$$T(n) = O(n)$$"
   ]
  },
  {
   "cell_type": "markdown",
   "id": "7b899b64",
   "metadata": {},
   "source": [
    "## Teile und Herrsche Implementierung\n",
    "\n",
    "Wie in der Vorlesung behandelt lassen sich Schleifen auch durch rekursive Aufrufe ersetzen. Dabei wird die Liste in zwei Hälften geteilt, die Summe der Einträge in jeder Hälfte berechnet und die beiden Teilsummen addiert. Die folgende Implementierung zeigt diese Technik anhand eines einfachen Python-Beispiels:"
   ]
  },
  {
   "cell_type": "code",
   "execution_count": 9,
   "id": "e726a858",
   "metadata": {},
   "outputs": [
    {
     "name": "stdout",
     "output_type": "stream",
     "text": [
      "10\n",
      "number list: [5, 2, 3, 10, 28, 1, 58, 34, 0, 23]\n",
      "sum of list: 164\n"
     ]
    }
   ],
   "source": [
    "def sum_with_dac(array, left, right):\n",
    "  if right <= left:\n",
    "    return array[right]\n",
    "  middle = int((right + left) / 2)\n",
    "  left_val = sum_with_dac(array, left, middle)\n",
    "  right_val = sum_with_dac(array, middle + 1, right)\n",
    "  return merge(left_val, right_val)\n",
    "\n",
    "def merge(left_val, right_val):\n",
    "  return left_val + right_val\n",
    "\n",
    "print(len(number_list))\n",
    "number_list = [5, 2, 3, 10, 28, 1, 58, 34, 0, 23]\n",
    "sum_list = sum_with_dac(number_list, 0, len(number_list) - 1)\n",
    "\n",
    "print(f\"number list: {number_list}\")\n",
    "print(f\"sum of list: {sum_list}\")"
   ]
  },
  {
   "cell_type": "markdown",
   "id": "45aeaf7a",
   "metadata": {},
   "source": [
    "### Laufzeit der Teile und Herrsche Implementierung\n",
    "\n",
    "Bei einem Teile und Herrsche Algorithmus wird die Laufzeit mit Hilfe der Master Theorem Formel bestimmt. Dabei wird die Laufzeit wie folgt angegeben:\n",
    "\n",
    "$$a = 2$$\n",
    "\n",
    "$a$ ist die Anzahl der Teilprobleme die rekursiv gelöst werden müssen.\n",
    "\n",
    "$$b = 2$$\n",
    "\n",
    "$b$ ist die Anzahl der Teilprobleme in die das Problem aufgeteilt wird. Da das Problem in zwei Hälften geteilt wird ist $b = 2$.\n",
    "\n",
    "$$\\alpha = log_b(a)$$\n",
    "$$\\alpha = log_2(2) = 1$$\n",
    "$\\alpha$ (aka watershed) ergibt sich wie oben zu sehen\n",
    "\n",
    "$$f(n) = 1 \\rightarrow O(n^0)$$\n",
    "$f(n)$ ist die Laufzeit der nicht rekursiven Operationen. Da hier die Summe der Einträge in der Liste berechnet wird ergibt sich $f(n) = 1$.\n",
    "\n",
    "\n",
    "Nun muss getestet werden welcher der Fälle des Master Theorems zutrifft:\n",
    "\n",
    "$ 1. \\text{Falls}: f(n) = O(n^{\\alpha-\\epsilon}) \\rightarrow \\text{Da } f(n) = n^0 \\text{ wäre dieser Fall möglich mit } \\epsilon = 2  \\\\\\\\\n",
    "2. \\text{Falls}: f(n) = \\Theta(n^{\\alpha}*log^{\\delta}n) \\rightarrow \\text{Hier kein log, also Nein}  \\\\\\\\\n",
    "3. \\text{Falls}: f(n) = \\Omega(n^{\\alpha+\\epsilon}) \\rightarrow \\text{Keine wachsende Potenz, also Nein} \\\\\\\\\n",
    "$\n",
    "\n",
    "Die Berechnung für Fall 1 ergibt:\n",
    "$$\n",
    "T(n) = O(n^{\\alpha-\\epsilon}) = O(n^{2 - 2}) = O(n^0) \\rightarrow \\Theta(n^\\alpha) = \\Theta(n^1) = O(n)\n",
    "$$"
   ]
  }
 ],
 "metadata": {
  "kernelspec": {
   "display_name": "Python 3",
   "language": "python",
   "name": "python3"
  },
  "language_info": {
   "codemirror_mode": {
    "name": "ipython",
    "version": 3
   },
   "file_extension": ".py",
   "mimetype": "text/x-python",
   "name": "python",
   "nbconvert_exporter": "python",
   "pygments_lexer": "ipython3",
   "version": "3.10.11"
  }
 },
 "nbformat": 4,
 "nbformat_minor": 5
}
