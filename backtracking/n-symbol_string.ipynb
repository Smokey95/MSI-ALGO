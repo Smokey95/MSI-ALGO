{
 "cells": [
  {
   "cell_type": "markdown",
   "id": "bb477a5f",
   "metadata": {},
   "source": [
    "# Alle Strings der Länge n mit k Zeichen"
   ]
  },
  {
   "cell_type": "markdown",
   "id": "442de332",
   "metadata": {},
   "source": [
    "## Rekursive Lösung\n",
    "\n",
    "### Alle Strings <= n zulässig"
   ]
  },
  {
   "cell_type": "code",
   "execution_count": 3,
   "id": "4d0d9906",
   "metadata": {},
   "outputs": [
    {
     "name": "stdout",
     "output_type": "stream",
     "text": [
      "[['a'], ['a', 'a'], ['a', 'a', 'a'], ['a', 'a', 'b'], ['a', 'b'], ['a', 'b', 'a'], ['a', 'b', 'b'], ['b'], ['b', 'a'], ['b', 'a', 'a'], ['b', 'a', 'b'], ['b', 'b'], ['b', 'b', 'a'], ['b', 'b', 'b']]\n"
     ]
    }
   ],
   "source": [
    "def isSolution(n:int, c):\n",
    "  if len(c) <= n:\n",
    "    return True\n",
    "  return False\n",
    "\n",
    "def rekString(n:int, k:list[str], c:list, solution:list):\n",
    "  for el in k:\n",
    "    c.append(el)\n",
    "    if isSolution(n, c):\n",
    "      solution.append(c.copy())\n",
    "      rekString(n, k, c, solution)\n",
    "    c.pop()\n",
    "\n",
    "\n",
    "n = 3\n",
    "c = []\n",
    "k = [\"a\", \"b\"]\n",
    "solution = []\n",
    "\n",
    "rekString(n, k, c, solution)\n",
    "print(solution)"
   ]
  }
 ],
 "metadata": {
  "kernelspec": {
   "display_name": "Python 3",
   "language": "python",
   "name": "python3"
  },
  "language_info": {
   "codemirror_mode": {
    "name": "ipython",
    "version": 3
   },
   "file_extension": ".py",
   "mimetype": "text/x-python",
   "name": "python",
   "nbconvert_exporter": "python",
   "pygments_lexer": "ipython3",
   "version": "3.10.11"
  }
 },
 "nbformat": 4,
 "nbformat_minor": 5
}
