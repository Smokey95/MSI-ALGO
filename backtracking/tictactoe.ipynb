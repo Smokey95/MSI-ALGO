{
 "cells": [
  {
   "cell_type": "markdown",
   "id": "da8d5a5d",
   "metadata": {},
   "source": [
    "# Tic Tac Toe"
   ]
  },
  {
   "cell_type": "code",
   "execution_count": null,
   "id": "972f6f59",
   "metadata": {},
   "outputs": [
    {
     "name": "stdout",
     "output_type": "stream",
     "text": [
      "['X', 'O', ' ', ' ', 'X', ' ', ' ', ' ', 'O']\n"
     ]
    },
    {
     "data": {
      "image/png": "[encoded data removed]",
      "text/plain": [
       "<Figure size 600x600 with 1 Axes>"
      ]
     },
     "metadata": {},
     "output_type": "display_data"
    }
   ],
   "source": [
    "import matplotlib.pyplot as plt\n",
    "import matplotlib.patches as patches\n",
    "\n",
    "def draw_board(board, title=\"Tic Tac Toe\"):\n",
    "    fig, ax = plt.subplots(1, 1, figsize=(6, 6))\n",
    "\n",
    "    board_line = []\n",
    "    for i in range(3):\n",
    "        for j in range(3):\n",
    "            board_line.append(board[i][j])\n",
    "    print(board_line)\n",
    "    \n",
    "    # Gitterlinien zeichnen\n",
    "    for i in range(1, 3):\n",
    "        ax.axhline(i, color='black', linewidth=2)\n",
    "        ax.axvline(i, color='black', linewidth=2)\n",
    "    \n",
    "    # X's und O's zeichnen\n",
    "    for i in range(3):\n",
    "        for j in range(3):\n",
    "            pos = i * 3 + j\n",
    "            if board_line[pos] == 'X':\n",
    "                ax.text(j + 0.5, 2.5 - i, 'X', fontsize=50, ha='center', va='center', color='red')\n",
    "            elif board_line[pos] == 'O':\n",
    "                ax.text(j + 0.5, 2.5 - i, 'O', fontsize=50, ha='center', va='center', color='blue')\n",
    "    \n",
    "    ax.set_xlim(0, 3)\n",
    "    ax.set_ylim(0, 3)\n",
    "    ax.set_aspect('equal')\n",
    "    ax.set_title(title, fontsize=16)\n",
    "    ax.axis('off')\n",
    "    \n",
    "    plt.tight_layout()\n",
    "    plt.show()\n",
    "\n",
    "def is_legal(board:list, pos:int, char):\n",
    "    \n",
    "\n",
    "# Test\n",
    "board = [['X', 'O', ' '],[' ', 'X', ' '],[' ', ' ', 'O']]\n",
    "draw_board(board)"
   ]
  }
 ],
 "metadata": {
  "kernelspec": {
   "display_name": "Python 3",
   "language": "python",
   "name": "python3"
  },
  "language_info": {
   "codemirror_mode": {
    "name": "ipython",
    "version": 3
   },
   "file_extension": ".py",
   "mimetype": "text/x-python",
   "name": "python",
   "nbconvert_exporter": "python",
   "pygments_lexer": "ipython3",
   "version": "3.10.11"
  }
 },
 "nbformat": 4,
 "nbformat_minor": 5
}
