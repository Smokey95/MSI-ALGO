{
 "cells": [
  {
   "cell_type": "markdown",
   "id": "7b5422f6",
   "metadata": {},
   "source": [
    "# Alle Strings für n-bits\n",
    "\n",
    "Wie viel eindeutige Strings gibt es für n-bits?\n",
    "\n",
    "## Beispiel\n",
    "\n",
    "$n = 2$\n",
    "\n",
    "strings: `0`, `1`, `00`, `01`, `10`, `11`"
   ]
  },
  {
   "cell_type": "markdown",
   "id": "2f977249",
   "metadata": {},
   "source": [
    "## Rekursive Lösung\n",
    "\n",
    "### Alle Strings <= n-bits zulässig"
   ]
  },
  {
   "cell_type": "code",
   "execution_count": 17,
   "id": "f7ac75da",
   "metadata": {},
   "outputs": [
    {
     "name": "stdout",
     "output_type": "stream",
     "text": [
      "[['0'], ['0', '0'], ['0', '1'], ['1'], ['1', '0'], ['1', '1']]\n"
     ]
    }
   ],
   "source": [
    "def isSolution(n:int, s:list[str]):\n",
    "    for i in s:\n",
    "        if i != \"1\" and i != \"0\":\n",
    "            return False\n",
    "    if len(s) > n:\n",
    "        return False\n",
    "    return True\n",
    "\n",
    "def nbitRecusive(n:int, s:list[str], solution:list[str]):\n",
    "    for i in (0, 1):\n",
    "        s.append(str(i))\n",
    "        if isSolution(n, s):\n",
    "            solution.append(s.copy())\n",
    "            nbitRecusive(n, s, solution)\n",
    "        s.pop()\n",
    "\n",
    "arr = []       \n",
    "nbitRecusive(2, [], arr)\n",
    "print(arr)"
   ]
  },
  {
   "cell_type": "markdown",
   "id": "bec90f89",
   "metadata": {},
   "source": [
    "### Alle Strings == n-bits zulässig"
   ]
  },
  {
   "cell_type": "code",
   "execution_count": 22,
   "id": "436327cd",
   "metadata": {},
   "outputs": [
    {
     "name": "stdout",
     "output_type": "stream",
     "text": [
      "[['0', '0'], ['0', '1'], ['1', '0'], ['1', '1']]\n"
     ]
    }
   ],
   "source": [
    "def isSolution(n:int, s:list[str]):\n",
    "    for i in s:\n",
    "        if i != \"1\" and i != \"0\":\n",
    "            return False\n",
    "    if len(s) != n:\n",
    "        return False\n",
    "    return True\n",
    "\n",
    "def nbitRecusive(n:int, s:list[str], solution:list[str]):\n",
    "    for i in (0, 1):\n",
    "        s.append(str(i))\n",
    "        if isSolution(n, s):\n",
    "            solution.append(s.copy())\n",
    "        else:\n",
    "            nbitRecusive(n, s, solution)\n",
    "        s.pop()\n",
    "\n",
    "arr = []       \n",
    "nbitRecusive(2, [], arr)\n",
    "print(arr)"
   ]
  },
  {
   "cell_type": "markdown",
   "id": "36d5ae21",
   "metadata": {},
   "source": [
    "## Iterative Lösung"
   ]
  },
  {
   "cell_type": "code",
   "execution_count": 20,
   "id": "078d9768",
   "metadata": {},
   "outputs": [
    {
     "name": "stdout",
     "output_type": "stream",
     "text": [
      "[['0'], ['0', '0'], ['0', '1'], ['1'], ['1', '0'], ['1', '1']]\n"
     ]
    }
   ],
   "source": [
    "def isSolution(n:int, s:list[str]):\n",
    "    for i in s:\n",
    "        if i != \"1\" and i != \"0\":\n",
    "            return False\n",
    "    if len(s) > n:\n",
    "        return False\n",
    "    return True\n",
    "\n",
    "def nbitIterative(n:int, s:list[str], solution:list[str]):\n",
    "    for i in n:\n",
    "        for j in i:\n",
    "            s.append(str(1))\n",
    "            if isSolution(n, s):\n",
    "                solution.append(s.copy())\n",
    "            s.pop\n",
    "            s.append(str(0))\n",
    "            if isSolution(n, s):\n",
    "                solution.append(s.copy())\n",
    "\n",
    "arr = []       \n",
    "nbitRecusive(2, [], arr)\n",
    "print(arr)"
   ]
  }
 ],
 "metadata": {
  "kernelspec": {
   "display_name": "Python 3",
   "language": "python",
   "name": "python3"
  },
  "language_info": {
   "codemirror_mode": {
    "name": "ipython",
    "version": 3
   },
   "file_extension": ".py",
   "mimetype": "text/x-python",
   "name": "python",
   "nbconvert_exporter": "python",
   "pygments_lexer": "ipython3",
   "version": "3.10.11"
  }
 },
 "nbformat": 4,
 "nbformat_minor": 5
}
