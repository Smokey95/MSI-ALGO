{
 "cells": [
  {
   "cell_type": "markdown",
   "id": "8d2c9e85",
   "metadata": {},
   "source": [
    "# Aufgabe einer Probeklausur\n",
    "\n",
    "Entwerfen Sie ein dynamische Programm, das die folgenden rekursiv definieren Zahlen berechnet:\n",
    "\n",
    "$$C_0 = 1$$\n",
    "\n",
    "$$C_N = N + \\frac{1}{N} * \\sum_{k=1}^N (C_{k-1} + C_{N-k})$$\n",
    "\n",
    "für $N \\geq 1$."
   ]
  },
  {
   "cell_type": "markdown",
   "id": "746494f2",
   "metadata": {},
   "source": [
    "## Lösung als reine Iteration"
   ]
  },
  {
   "cell_type": "code",
   "execution_count": 3,
   "id": "eef85710",
   "metadata": {},
   "outputs": [
    {
     "name": "stdout",
     "output_type": "stream",
     "text": [
      "Solution for N = 0: 1\n",
      "Solution for N = 1: 3.0\n",
      "Solution for N = 2: 6.0\n",
      "Solution for N = 3: 9.666666666666666\n"
     ]
    }
   ],
   "source": [
    "def dynC(N):\n",
    "  C = [1]\n",
    "  \n",
    "  i = 1\n",
    "  while i <= N:\n",
    "\n",
    "    j = 1\n",
    "    sum = 0\n",
    "    while j <= i:\n",
    "      sum += C[j - 1] + C[i - j]\n",
    "      j += 1\n",
    "    \n",
    "    C.append(i + (1/i) * sum)\n",
    "\n",
    "    i += 1\n",
    "  \n",
    "  return C[N]\n",
    "\n",
    "print(f\"Solution for N = 0: {dynC(0)}\")\n",
    "print(f\"Solution for N = 1: {dynC(1)}\")\n",
    "print(f\"Solution for N = 2: {dynC(2)}\")\n",
    "print(f\"Solution for N = 3: {dynC(3)}\")"
   ]
  },
  {
   "cell_type": "markdown",
   "id": "a0b17296",
   "metadata": {},
   "source": [
    "## Lösung mit rekursion und Cache"
   ]
  },
  {
   "cell_type": "code",
   "execution_count": 11,
   "id": "18fa1bf6",
   "metadata": {},
   "outputs": [
    {
     "name": "stdout",
     "output_type": "stream",
     "text": [
      "Solution for N = 0: 1\n",
      "Solution for N = 1: 3.0\n",
      "Solution for N = 2: 6.0\n",
      "Solution for N = 3: 9.666666666666666\n"
     ]
    }
   ],
   "source": [
    "def dynC(N:int, C:list[int] = [1]):\n",
    "  if len(C) == N + 1:\n",
    "    return C[N]\n",
    "  \n",
    "  k = 1\n",
    "  sum = 0\n",
    "  while k <= N:\n",
    "    if len(C) == k:\n",
    "      sum += C[k - 1] + C[N - k]\n",
    "    else:\n",
    "      dynC(N - 1, C)\n",
    "      sum += C[k - 1] + C[N - k]\n",
    "    \n",
    "    k += 1\n",
    "  \n",
    "  C.append(N + (1/N) * sum)\n",
    "  return C[N]\n",
    "\n",
    "print(f\"Solution for N = 0: {dynC(0)}\")\n",
    "print(f\"Solution for N = 1: {dynC(1)}\")\n",
    "print(f\"Solution for N = 2: {dynC(2)}\")\n",
    "print(f\"Solution for N = 3: {dynC(3)}\")"
   ]
  }
 ],
 "metadata": {
  "kernelspec": {
   "display_name": "Python 3",
   "language": "python",
   "name": "python3"
  },
  "language_info": {
   "codemirror_mode": {
    "name": "ipython",
    "version": 3
   },
   "file_extension": ".py",
   "mimetype": "text/x-python",
   "name": "python",
   "nbconvert_exporter": "python",
   "pygments_lexer": "ipython3",
   "version": "3.10.11"
  }
 },
 "nbformat": 4,
 "nbformat_minor": 5
}
