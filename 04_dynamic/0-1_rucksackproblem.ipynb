{
 "cells": [
  {
   "cell_type": "markdown",
   "id": "51aaeb5b",
   "metadata": {},
   "source": [
    "# 0-1 Rucksackproblem\n",
    "\n",
    "Der folgende Code implementiert das fraktionale Rucksackproblem als dynamisches Programm."
   ]
  },
  {
   "cell_type": "code",
   "execution_count": 2,
   "id": "5eb76c68",
   "metadata": {},
   "outputs": [],
   "source": [
    "class Value:\n",
    "  def __init__(self, gewicht, wert):\n",
    "    self.gewicht = gewicht\n",
    "    self.wert = wert\n",
    "  \n",
    "  def __str__(self):\n",
    "    return f\"Value: {self.gewicht}kg / {self.wert}€\"\n",
    "  \n",
    "  def __lt__(self, other):\n",
    "    if not isinstance(other, Value):\n",
    "      return NotImplemented\n",
    "    return (self.wert / self.gewicht) < (other.wert / other.gewicht)\n",
    "  \n",
    "  def __gt__(self, other):\n",
    "        if not isinstance(other, Value):\n",
    "            return NotImplemented\n",
    "        return (self.wert / self.gewicht) > (other.wert / other.gewicht)\n",
    "\n",
    "class Rucksack:\n",
    "  def __init__(self, kapazität):\n",
    "    self.kapazität = kapazität\n",
    "    self.values = []\n",
    "  \n",
    "  def __str__(self):\n",
    "    retval = f\"Rucksack Kapazität: {self.kapazität}kg\\n\"\n",
    "    for val in self.values:\n",
    "      retval += str(val) + \"\\n\"\n",
    "    return retval"
   ]
  },
  {
   "cell_type": "code",
   "execution_count": 7,
   "id": "61adf82b",
   "metadata": {},
   "outputs": [
    {
     "name": "stdout",
     "output_type": "stream",
     "text": [
      "[[0. 0. 0. 0. 0. 0.]\n",
      " [0. 0. 0. 0. 0. 0.]\n",
      " [0. 0. 0. 0. 0. 0.]\n",
      " [0. 0. 0. 0. 0. 0.]\n",
      " [0. 0. 0. 0. 0. 0.]]\n",
      "[[0. 0. 0. 0. 0. 0.]\n",
      " [0. 2. 2. 2. 2. 2.]\n",
      " [0. 0. 3. 5. 5. 5.]\n",
      " [0. 0. 0. 5. 5. 5.]\n",
      " [0. 1. 1. 5. 6. 6.]]\n",
      "Rucksack Kapazität: 1kg\n",
      "Value: 1kg / 1€\n",
      "Value: 2kg / 3€\n",
      "Value: 1kg / 2€\n",
      "\n"
     ]
    }
   ],
   "source": [
    "import numpy as np\n",
    "def frakBag(values:list[Value], bag:Rucksack):\n",
    "\n",
    "  n = len(values)\n",
    "  m = bag.kapazität\n",
    "  P = np.zeros((n + 1, m + 1))\n",
    "  print(P)\n",
    "  \n",
    "  i = 1\n",
    "  while i <= n:\n",
    "    x = 1\n",
    "    while x <= m:\n",
    "      # Lese den Wert des vorherigen Element\n",
    "      pref_value = P[i - 1][x]\n",
    "\n",
    "      ## Prüfe ob der Wert im Rucksack wächst, wenn das vorherige Element entfernt wird und das aktuelle Eingepackt\n",
    "      # Ermittle Wert und Gewicht des vorherigen Element\n",
    "      wi = values[i-1].wert\n",
    "      gi = values[i-1].gewicht\n",
    "      if x - gi >= 0:\n",
    "        tmp = P[i - 1][x - gi]\n",
    "        pref_value_2 = wi + tmp\n",
    "        P[i][x] = max(pref_value, pref_value_2)\n",
    "      # Prüfe das maximum (welches Element passt besser)\n",
    "      x += 1\n",
    "    i += 1\n",
    "\n",
    "  parts = []\n",
    "  i -= 1\n",
    "  x -= 1\n",
    "  while i >= 0:\n",
    "    curr = P[i][x]\n",
    "    pref = P[i - 1][x]\n",
    "    if pref < curr:\n",
    "      # Nehme aktuelles Objekt mit\n",
    "      gi = values[i-1].gewicht\n",
    "      wi = values[i-1].wert\n",
    "      bag.values.append(Value(gi, wi))\n",
    "      bag.kapazität -= gi\n",
    "      x = x - gi\n",
    "    i -= 1\n",
    "\n",
    "  \n",
    "  return P\n",
    "\n",
    "v1 = Value(1, 2)\n",
    "v2 = Value(2, 3)\n",
    "v3 = Value(3, 1)\n",
    "v4 = Value(1, 1)\n",
    "values = [v1, v2, v3, v4]\n",
    "\n",
    "G = Rucksack(5)\n",
    "\n",
    "P = frakBag(values, G)\n",
    "print(P)\n",
    "print(G)"
   ]
  }
 ],
 "metadata": {
  "kernelspec": {
   "display_name": "Python 3",
   "language": "python",
   "name": "python3"
  },
  "language_info": {
   "codemirror_mode": {
    "name": "ipython",
    "version": 3
   },
   "file_extension": ".py",
   "mimetype": "text/x-python",
   "name": "python",
   "nbconvert_exporter": "python",
   "pygments_lexer": "ipython3",
   "version": "3.10.11"
  }
 },
 "nbformat": 4,
 "nbformat_minor": 5
}
