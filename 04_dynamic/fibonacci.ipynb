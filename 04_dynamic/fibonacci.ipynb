{
 "cells": [
  {
   "cell_type": "markdown",
   "id": "f1dc42ef",
   "metadata": {},
   "source": [
    "# Fibonacci-Zahlen\n",
    "\n",
    "## Rekursive Implementierung\n",
    "Die folgende Implementierung berechnet die Fibonacci Zahle einfach rekursiv (ohne dynamische Programmierung):"
   ]
  },
  {
   "cell_type": "code",
   "execution_count": 11,
   "id": "3b3d7318",
   "metadata": {},
   "outputs": [
    {
     "name": "stdout",
     "output_type": "stream",
     "text": [
      "Fibonacci 0: Total Count: 1\n",
      "Fibonacci 1: Total Count: 1\n",
      "Fibonacci 2: Total Count: 3\n",
      "Fibonacci 3: Total Count: 5\n",
      "Fibonacci 4: Total Count: 9\n",
      "Fibonacci 5: Total Count: 15\n",
      "Fibonacci 10: Total Count: 177\n",
      "Fibonacci 20: Total Count: 21_891\n",
      "Fibonacci 30: Total Count: 2_692_537\n",
      "Fibonacci 40: Total Count: 331_160_281\n"
     ]
    }
   ],
   "source": [
    "class fibonacci():\n",
    "  def __init__(self, count):\n",
    "    self.total_count = 0\n",
    "    self.rek_count = []\n",
    "    self.__fib(count)\n",
    "\n",
    "  def __str__(self):\n",
    "    retval = f\"Total Count: {self.total_count:_}\"\n",
    "    return retval\n",
    "\n",
    "  def __fib(self, count):\n",
    "    self.total_count += 1\n",
    "    if count == 0:\n",
    "      return 0\n",
    "    if count == 1:\n",
    "      return 1\n",
    "    return self.__fib(count - 1) + self.__fib(count - 2)\n",
    "  \n",
    "print(f\"Fibonacci 0: {fibonacci(0)}\")\n",
    "print(f\"Fibonacci 1: {fibonacci(1)}\")\n",
    "print(f\"Fibonacci 2: {fibonacci(2)}\")\n",
    "print(f\"Fibonacci 3: {fibonacci(3)}\")\n",
    "print(f\"Fibonacci 4: {fibonacci(4)}\")\n",
    "print(f\"Fibonacci 5: {fibonacci(5)}\")\n",
    "print(f\"Fibonacci 10: {fibonacci(10)}\")\n",
    "print(f\"Fibonacci 20: {fibonacci(20)}\")\n",
    "print(f\"Fibonacci 30: {fibonacci(30)}\")\n",
    "print(f\"Fibonacci 40: {fibonacci(40)}\")\n",
    "\n"
   ]
  },
  {
   "cell_type": "code",
   "execution_count": 22,
   "id": "3340db39",
   "metadata": {},
   "outputs": [
    {
     "name": "stdout",
     "output_type": "stream",
     "text": [
      "Fibonacci 0: Total Count: 0 Value: 0\n",
      "Fibonacci 1: Total Count: 0 Value: 0\n",
      "Fibonacci 2: Total Count: 1 Value: 1\n",
      "Fibonacci 3: Total Count: 2 Value: 1\n",
      "Fibonacci 4: Total Count: 3 Value: 2\n",
      "Fibonacci 5: Total Count: 4 Value: 3\n",
      "Fibonacci 10: Total Count: 9 Value: 34\n",
      "Fibonacci 20: Total Count: 19 Value: 4_181\n",
      "Fibonacci 30: Total Count: 29 Value: 514_229\n",
      "Fibonacci 40: Total Count: 39 Value: 63_245_986\n",
      "Fibonacci 100: Total Count: 99 Value: 218_922_995_834_555_169_026\n",
      "Fibonacci 200: Total Count: 199 Value: 173_402_521_172_797_813_159_685_037_284_371_942_044_301\n",
      "Fibonacci 500: Total Count: 499 Value: 86_168_291_600_238_450_732_788_312_165_664_788_095_941_068_326_060_883_324_529_903_470_149_056_115_823_592_713_458_328_176_574_447_204_501\n",
      "Fibonacci 1000: Total Count: 999 Value: 26_863_810_024_485_359_386_146_727_202_142_923_967_616_609_318_986_952_340_123_175_997_617_981_700_247_881_689_338_369_654_483_356_564_191_827_856_161_443_356_312_976_673_642_210_350_324_634_850_410_377_680_367_334_151_172_899_169_723_197_082_763_985_615_764_450_078_474_174_626\n"
     ]
    }
   ],
   "source": [
    "class fibonacci():\n",
    "  def __init__(self, count):\n",
    "    self.total_count = 0\n",
    "    self.fib_arr = [0, 1]\n",
    "    self.__fib(count)\n",
    "\n",
    "  def __str__(self):\n",
    "    retval = f\"Total Count: {self.total_count:_} Value: {self.fib_arr[self.total_count]:_}\"\n",
    "    return retval\n",
    "\n",
    "  def __fib(self, count):\n",
    "    i = 2\n",
    "    while i <= count:\n",
    "      self.fib_arr.append(self.fib_arr[i - 1] + self.fib_arr[i - 2])\n",
    "      self.total_count += 1\n",
    "      i += 1\n",
    "\n",
    "print(f\"Fibonacci 0: {fibonacci(0)}\")\n",
    "print(f\"Fibonacci 1: {fibonacci(1)}\")\n",
    "print(f\"Fibonacci 2: {fibonacci(2)}\")\n",
    "print(f\"Fibonacci 3: {fibonacci(3)}\")\n",
    "print(f\"Fibonacci 4: {fibonacci(4)}\")\n",
    "print(f\"Fibonacci 5: {fibonacci(5)}\")\n",
    "print(f\"Fibonacci 10: {fibonacci(10)}\")\n",
    "print(f\"Fibonacci 20: {fibonacci(20)}\")\n",
    "print(f\"Fibonacci 30: {fibonacci(30)}\")\n",
    "print(f\"Fibonacci 40: {fibonacci(40)}\")\n",
    "print(f\"Fibonacci 100: {fibonacci(100)}\")\n",
    "print(f\"Fibonacci 200: {fibonacci(200)}\")\n",
    "print(f\"Fibonacci 500: {fibonacci(500)}\")\n",
    "print(f\"Fibonacci 1000: {fibonacci(1000)}\")"
   ]
  }
 ],
 "metadata": {
  "kernelspec": {
   "display_name": "Python 3",
   "language": "python",
   "name": "python3"
  },
  "language_info": {
   "codemirror_mode": {
    "name": "ipython",
    "version": 3
   },
   "file_extension": ".py",
   "mimetype": "text/x-python",
   "name": "python",
   "nbconvert_exporter": "python",
   "pygments_lexer": "ipython3",
   "version": "3.10.11"
  }
 },
 "nbformat": 4,
 "nbformat_minor": 5
}
