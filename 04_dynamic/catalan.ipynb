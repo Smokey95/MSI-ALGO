{
 "cells": [
  {
   "cell_type": "markdown",
   "id": "2159d6d5",
   "metadata": {},
   "source": [
    "# Aufgabe aus Probeklausur: Catalan Zahlen"
   ]
  },
  {
   "cell_type": "markdown",
   "id": "965d9f4f",
   "metadata": {},
   "source": [
    "Entwerfen Sie ein dynamisches Programm, das die folgenden rekusiv definierten Catalan-Zahlen berechnet:\n",
    "\n",
    "$$C_0 = 1$$\n",
    "$$C_{N+1} = \\sum_{k=0}^{N} C_k \\cdot C_{N-k}$$"
   ]
  },
  {
   "cell_type": "code",
   "execution_count": 5,
   "id": "b4a8451a",
   "metadata": {},
   "outputs": [
    {
     "name": "stdout",
     "output_type": "stream",
     "text": [
      "1\n",
      "1\n",
      "2\n",
      "5\n",
      "14\n",
      "42\n",
      "132\n",
      "429\n"
     ]
    }
   ],
   "source": [
    "class catalan:\n",
    "    def __init__(self, N:int):\n",
    "        self.C = [1]\n",
    "        self.N = N\n",
    "        self.__catalan()\n",
    "\n",
    "    def __catalan(self):\n",
    "        if self.N == 0:\n",
    "            return\n",
    "        \n",
    "        i = 0\n",
    "        while i <= self.N:\n",
    "            j = 0\n",
    "            sum = 0\n",
    "            while j <= i:\n",
    "                sum += self.C[j] * self.C[i - j]\n",
    "                j += 1\n",
    "            self.C.append(sum)\n",
    "            i += 1\n",
    "        \n",
    "    def __str__(self):\n",
    "        return f\"{self.C[self.N]}\"\n",
    "    \n",
    "for i in range(8):\n",
    "    print(catalan(i))"
   ]
  }
 ],
 "metadata": {
  "kernelspec": {
   "display_name": "Python 3",
   "language": "python",
   "name": "python3"
  },
  "language_info": {
   "codemirror_mode": {
    "name": "ipython",
    "version": 3
   },
   "file_extension": ".py",
   "mimetype": "text/x-python",
   "name": "python",
   "nbconvert_exporter": "python",
   "pygments_lexer": "ipython3",
   "version": "3.10.11"
  }
 },
 "nbformat": 4,
 "nbformat_minor": 5
}
