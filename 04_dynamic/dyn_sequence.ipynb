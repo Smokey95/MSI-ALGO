{
 "cells": [
  {
   "cell_type": "markdown",
   "id": "30d489bc",
   "metadata": {},
   "source": [
    "# Aufgabe einer Probeklausur (Längste gemeinsame Teilfolge)"
   ]
  },
  {
   "cell_type": "code",
   "execution_count": 18,
   "id": "58197463",
   "metadata": {},
   "outputs": [
    {
     "name": "stdout",
     "output_type": "stream",
     "text": [
      "[[0. 0. 0. 0. 0. 0. 0.]\n",
      " [0. 0. 0. 0. 0. 0. 0.]\n",
      " [0. 0. 0. 0. 0. 0. 0.]\n",
      " [0. 0. 0. 0. 0. 0. 0.]\n",
      " [0. 0. 0. 0. 0. 0. 0.]\n",
      " [0. 0. 0. 0. 0. 0. 0.]\n",
      " [0. 0. 0. 0. 0. 0. 0.]\n",
      " [0. 0. 0. 0. 0. 0. 0.]]\n",
      "[[0. 0. 0. 0. 0. 0. 0.]\n",
      " [1. 1. 1. 1. 1. 1. 1.]\n",
      " [1. 2. 2. 2. 2. 2. 2.]\n",
      " [2. 2. 2. 2. 2. 2. 2.]\n",
      " [2. 3. 3. 3. 3. 3. 3.]\n",
      " [3. 3. 3. 3. 3. 3. 3.]\n",
      " [3. 4. 4. 4. 4. 4. 4.]\n",
      " [4. 4. 4. 4. 4. 4. 4.]]\n"
     ]
    }
   ],
   "source": [
    "import numpy as np\n",
    "\n",
    "def dyn_sequence(a:list[int], b:list[int]):\n",
    "  m = len(a) + 1\n",
    "  n = len(b)\n",
    "\n",
    "  C = np.zeros((m, n))\n",
    "  print(C)\n",
    "\n",
    "  for i in range(1, m):\n",
    "    el = a[i - 1]\n",
    "    found = False\n",
    "    for j in range(0, n):\n",
    "      if found:\n",
    "        C[i][j] = C[i][j - 1]\n",
    "        continue\n",
    "      if b[j] == el:\n",
    "        C[i][j] = C[i - 1][j] + 1\n",
    "        found = True\n",
    "      else:\n",
    "        C[i][j] = C[i - 1][j]\n",
    "    #print(C)\n",
    "  \n",
    "  print(C)\n",
    "\n",
    "#a = [10, 4, 20, 10, 40, 2, 0, 60]\n",
    "#b = [4, 90, 7, 10, 70, 2, 71, 81, 0]\n",
    "#a = [3, 9, 8, 3, 9, 7, 9, 7, 0, 6, 2, 1]\n",
    "#b = [9, 3, 7, 9, 2, 1, 0, 8, 6, 2]\n",
    "#a = [1, 1, 1, 1, 1, 1, 1]\n",
    "#b = [1, 1, 1, 1, 1, 1, 1]\n",
    "#a = [1, 0, 0, 0, 0, 0, 0]\n",
    "#b = [1, 1, 1, 1, 1, 1, 1]\n",
    "a = [1, 0, 1, 0, 1, 0, 1]\n",
    "b = [1, 0, 1, 0, 1, 0, 1]\n",
    "\n",
    "dyn_sequence(a, b)"
   ]
  },
  {
   "cell_type": "code",
   "execution_count": null,
   "id": "fa410b53",
   "metadata": {},
   "outputs": [
    {
     "name": "stdout",
     "output_type": "stream",
     "text": [
      "[[0. 0. 0. 0. 0. 0. 0. 0. 0. 0.]\n",
      " [0. 0. 0. 0. 0. 0. 0. 0. 0. 0.]\n",
      " [0. 0. 0. 0. 0. 0. 0. 0. 0. 0.]\n",
      " [0. 0. 0. 0. 0. 0. 0. 0. 0. 0.]\n",
      " [0. 0. 0. 0. 0. 0. 0. 0. 0. 0.]\n",
      " [0. 0. 0. 0. 0. 0. 0. 0. 0. 0.]\n",
      " [0. 0. 0. 0. 0. 0. 0. 0. 0. 0.]\n",
      " [0. 0. 0. 0. 0. 0. 0. 0. 0. 0.]\n",
      " [0. 0. 0. 0. 0. 0. 0. 0. 0. 0.]\n",
      " [0. 0. 0. 0. 0. 0. 0. 0. 0. 0.]\n",
      " [0. 0. 0. 0. 0. 0. 0. 0. 0. 0.]\n",
      " [0. 0. 0. 0. 0. 0. 0. 0. 0. 0.]\n",
      " [0. 0. 0. 0. 0. 0. 0. 0. 0. 0.]]\n",
      "[[0. 0. 0. 0. 0. 0. 0. 0. 0. 0.]\n",
      " [0. 1. 1. 1. 1. 1. 1. 1. 1. 1.]\n",
      " [2. 2. 2. 2. 2. 2. 2. 2. 2. 2.]\n",
      " [2. 2. 2. 2. 2. 2. 2. 3. 3. 3.]\n",
      " [3. 3. 3. 3. 3. 3. 3. 3. 3. 3.]\n",
      " [4. 4. 4. 4. 4. 4. 4. 4. 4. 4.]\n",
      " [4. 4. 5. 5. 5. 5. 5. 5. 5. 5.]\n",
      " [6. 6. 6. 6. 6. 6. 6. 6. 6. 6.]\n",
      " [6. 6. 7. 7. 7. 7. 7. 7. 7. 7.]\n",
      " [7. 6. 6. 7. 7. 7. 8. 8. 8. 8.]\n",
      " [8. 7. 6. 6. 7. 7. 7. 8. 9. 9.]\n",
      " [9. 8. 7. 6. 7. 7. 7. 7. 7. 7.]\n",
      " [7. 9. 8. 7. 6. 8. 8. 8. 8. 8.]]\n"
     ]
    }
   ],
   "source": [
    "import numpy as np\n",
    "\n",
    "def dyn_sequence(a:list[int], b:list[int]):\n",
    "  m = len(a) + 1\n",
    "  n = len(b)\n",
    "\n",
    "  C = np.zeros((m, n))\n",
    "  print(C)\n",
    "\n",
    "  for i in range(1, m):\n",
    "    el = a[i - 1]\n",
    "    found = False\n",
    "    for j in range(0, n):\n",
    "      if found:\n",
    "        C[i][j] = C[i][j - 1]\n",
    "        continue\n",
    "      if b[j] == el:\n",
    "        C[i][j] = C[i - 1][j - 1] + 1\n",
    "        found = True\n",
    "      else:\n",
    "        C[i][j] = C[i - 1][j - 1]\n",
    "    #print(C)\n",
    "  \n",
    "  print(C)\n",
    "\n",
    "a = [10, 4, 20, 10, 40, 2, 0, 60]\n",
    "b = [4, 90, 7, 10, 70, 2, 71, 81, 0]\n",
    "#a = [3, 9, 8, 3, 9, 7, 9, 7, 0, 6, 2, 1]\n",
    "#b = [9, 3, 7, 9, 2, 1, 0, 8, 6, 2]\n",
    "#a = [1, 1, 1, 1, 1, 1, 1]\n",
    "#b = [1, 1, 1, 1, 1, 1, 1]\n",
    "#a = [1, 0, 0, 0, 0, 0, 0]\n",
    "#b = [1, 1, 1, 1, 1, 1, 1]\n",
    "#a = [1, 0, 1, 0, 1, 0, 1]\n",
    "#b = [1, 0, 1, 0, 1, 0, 1]\n",
    "\n",
    "dyn_sequence(a, b)"
   ]
  }
 ],
 "metadata": {
  "kernelspec": {
   "display_name": "Python 3",
   "language": "python",
   "name": "python3"
  },
  "language_info": {
   "codemirror_mode": {
    "name": "ipython",
    "version": 3
   },
   "file_extension": ".py",
   "mimetype": "text/x-python",
   "name": "python",
   "nbconvert_exporter": "python",
   "pygments_lexer": "ipython3",
   "version": "3.10.11"
  }
 },
 "nbformat": 4,
 "nbformat_minor": 5
}
