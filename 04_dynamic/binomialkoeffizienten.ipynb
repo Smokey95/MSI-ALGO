{
 "cells": [
  {
   "cell_type": "markdown",
   "id": "d552d67f",
   "metadata": {},
   "source": [
    "# Binomialkoeffizienten\n",
    "\n",
    "Die Formel für den Binomialkoeffizienten ist:\n",
    "\n",
    "$$\n",
    "\\binom{n}{k} = \\frac{n!}{k!(n-k)!}\n",
    "$$\n",
    "\n",
    "Diese lässt sich auf die folgende Rekursionsformel umstellen:\n",
    "\n",
    "$$\n",
    "\\binom{n}{k} = \\binom{n-1}{k} + \\binom{n-1}{k-1}\n",
    "$$\n",
    "\n",
    "## Rekursive Implementierung"
   ]
  },
  {
   "cell_type": "code",
   "execution_count": 11,
   "id": "b08ab78e",
   "metadata": {},
   "outputs": [
    {
     "name": "stdout",
     "output_type": "stream",
     "text": [
      "Binomialkoeffizient (4 2) = 6 [rekursioncount: 11]\n",
      "Binomialkoeffizient (49 6) = 13983816 [rekursioncount: 27_967_631]\n"
     ]
    }
   ],
   "source": [
    "class binomialkoeffizient:\n",
    "  def __init__(self, n, k):\n",
    "    self.n = n\n",
    "    self.k = k\n",
    "    self.count = 0\n",
    "    self.bin = self.__binomialkoeffizient(self.n, self.k)\n",
    "\n",
    "  def __str__(self):\n",
    "    return f\"Binomialkoeffizient ({self.n} {self.k}) = {self.bin} [rekursioncount: {self.count:_}]\"\n",
    "\n",
    "  def __binomialkoeffizient(self, n, k):\n",
    "    self.count += 1\n",
    "    # ------------ Basisfälle\n",
    "    if n == k:\n",
    "      return 1\n",
    "    if k == 0:\n",
    "      return 1\n",
    "    # ------------ Rekursion\n",
    "    return self.__binomialkoeffizient(n-1, k) + self.__binomialkoeffizient(n-1, k-1)\n",
    "\n",
    "print(binomialkoeffizient(4, 2))\n",
    "print(binomialkoeffizient(49, 6))"
   ]
  },
  {
   "cell_type": "markdown",
   "id": "3c9d86af",
   "metadata": {},
   "source": [
    "## Dynamische Programmierung"
   ]
  },
  {
   "cell_type": "markdown",
   "id": "825a81bf",
   "metadata": {},
   "source": [
    "### Mit Rekursion"
   ]
  },
  {
   "cell_type": "code",
   "execution_count": 25,
   "id": "3dc58bb0",
   "metadata": {},
   "outputs": [
    {
     "name": "stdout",
     "output_type": "stream",
     "text": [
      "Binomialkoeffizient (4 2) = 6 [rekursioncount: 9]\n",
      "Binomialkoeffizient (49 6) = 13_983_816 [rekursioncount: 517]\n"
     ]
    }
   ],
   "source": [
    "class binomialkoeffizient:\n",
    "  def __init__(self, n, k):\n",
    "    self.n = n\n",
    "    self.k = k\n",
    "    self.count = 0\n",
    "    self.bin_dict = {}\n",
    "    self.bin = self.__binomialkoeffizient(self.n, self.k)\n",
    "\n",
    "  def __str__(self):\n",
    "    return f\"Binomialkoeffizient ({self.n} {self.k}) = {self.bin:_} [rekursioncount: {self.count:_}]\"\n",
    "  \n",
    "  def __binomialkoeffizient(self, n, k):\n",
    "    self.count += 1\n",
    "    # ------------ Basisfälle\n",
    "    if n == k:\n",
    "      self.bin_dict[(n, k)] = 1\n",
    "      return self.bin_dict[(n, k)]\n",
    "    if k == 0:\n",
    "      self.bin_dict[(n, k)] = 1\n",
    "      return self.bin_dict[(n, k)]\n",
    "\n",
    "    # ------------ Rekursion\n",
    "    if (n, k) in self.bin_dict:\n",
    "      return self.bin_dict[(n, k)]\n",
    "    else:\n",
    "      self.bin_dict[(n, k)] = self.__binomialkoeffizient(n-1, k) + self.__binomialkoeffizient(n-1, k-1)\n",
    "      return self.bin_dict[(n, k)]\n",
    "\n",
    "print(binomialkoeffizient(4, 2))\n",
    "print(binomialkoeffizient(49, 6))"
   ]
  },
  {
   "cell_type": "markdown",
   "id": "4bef2ea0",
   "metadata": {},
   "source": [
    "In dieser Implementierung wird weiterhin eine Rekursion verwendet um die Teilergebnisse zu berechnen. Allerdings wird eine Art Cache verwendet um die Teilergebnisse zu speichern. Dieser wird in der folgenden Zeile abgefragt und weiter befüllt:\n",
    "\n",
    "```python\n",
    "if (n, k) in self.bin_dict:\n",
    "  return self.bin_dict[(n, k)]\n",
    "else:\n",
    "  self.bin_dict[(n, k)] = self.__binomialkoeffizient(n-1, k) + self.__binomialkoeffizient(n-1, k-1)\n",
    "    return self.bin_dict[(n, k)]\n",
    "```\n",
    "\n",
    "Dadurch ergibt sich jedoch auch eine verbesserte Laufzeit, da die Teilergebnisse nicht mehr mehrfach berechnet werden müssen. Die Laufzeit beträgt O(n*k) und der Speicherbedarf O(n*k)."
   ]
  },
  {
   "cell_type": "markdown",
   "id": "4647bb03",
   "metadata": {},
   "source": [
    "### Mit Iterativer Konstruktion"
   ]
  },
  {
   "cell_type": "code",
   "execution_count": null,
   "id": "cc66ae9c",
   "metadata": {},
   "outputs": [
    {
     "name": "stdout",
     "output_type": "stream",
     "text": [
      "[[1. 0. 0. 0. 0.]\n",
      " [1. 1. 0. 0. 0.]\n",
      " [1. 2. 1. 0. 0.]\n",
      " [1. 3. 3. 1. 0.]\n",
      " [1. 4. 6. 4. 1.]]\n",
      "[[ 1.  0.  0.  0.  0.  0.]\n",
      " [ 1.  1.  0.  0.  0.  0.]\n",
      " [ 1.  2.  1.  0.  0.  0.]\n",
      " [ 1.  3.  3.  1.  0.  0.]\n",
      " [ 1.  4.  6.  4.  1.  0.]\n",
      " [ 1.  5. 10. 10.  5.  1.]]\n"
     ]
    }
   ],
   "source": [
    "import numpy as np\n",
    "\n",
    "class binomialkoeffizient:\n",
    "  def __init__(self, n, k):\n",
    "    self.n = n\n",
    "    self.k = k\n",
    "    self.count = 0\n",
    "    self.bin_arr = np.zeros((n+1, n+1)) # n x n großes Array erstellen\n",
    "    #self.bin = self.__binomialkoeffizient(self.n, self.k)\n",
    "    self.__binomialkoeffizient(self.n, self.k)\n",
    "\n",
    "  def __str__(self):\n",
    "    return f\"Binomialkoeffizient ({self.n} {self.k}) = {1} [rekursioncount: {self.count:_}]\"\n",
    "  \n",
    "  def str_array(self):\n",
    "    return f\"{self.bin_arr}\"\n",
    "  \n",
    "  def __binomialkoeffizient(self, n, k):\n",
    "    self.count += 1\n",
    "    # ------------ Basisfälle\n",
    "    for i in range(0, n+1):\n",
    "      self.bin_arr[i][i] = 1\n",
    "\n",
    "    for i in range(0, n+1):\n",
    "      self.bin_arr[i][0] = 1\n",
    "  \n",
    "    i = 2\n",
    "    j = 1\n",
    "\n",
    "    while i <= n:\n",
    "\n",
    "      while j < i:\n",
    "        self.bin_arr[i][j] = self.bin_arr[i-1][j] + self.bin_arr[i-1][j-1]\n",
    "        j += 1\n",
    "\n",
    "      i += 1\n",
    "      j = 1   # das ist leider so in python\n",
    "\n",
    "bin_1 = binomialkoeffizient(4, 2)\n",
    "print(bin_1.str_array())\n",
    "\n",
    "bin_2 = binomialkoeffizient(5, 3)\n",
    "print(bin_2.str_array())"
   ]
  }
 ],
 "metadata": {
  "kernelspec": {
   "display_name": "Python 3",
   "language": "python",
   "name": "python3"
  },
  "language_info": {
   "codemirror_mode": {
    "name": "ipython",
    "version": 3
   },
   "file_extension": ".py",
   "mimetype": "text/x-python",
   "name": "python",
   "nbconvert_exporter": "python",
   "pygments_lexer": "ipython3",
   "version": "3.10.11"
  }
 },
 "nbformat": 4,
 "nbformat_minor": 5
}
