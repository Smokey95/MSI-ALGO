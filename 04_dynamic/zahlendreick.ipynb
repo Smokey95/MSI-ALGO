{
 "cells": [
  {
   "cell_type": "markdown",
   "id": "1be839af",
   "metadata": {},
   "source": [
    "# Zahlendreieck"
   ]
  },
  {
   "cell_type": "code",
   "execution_count": 17,
   "id": "0f3d817f",
   "metadata": {},
   "outputs": [
    {
     "name": "stdout",
     "output_type": "stream",
     "text": [
      "[[10 -1 -1 -1 -1 -1 -1]\n",
      " [82 81 -1 -1 -1 -1 -1]\n",
      " [ 4  6 10 -1 -1 -1 -1]\n",
      " [ 2 14 35  7 -1 -1 -1]\n",
      " [41  3 52 26 15 -1 -1]\n",
      " [32 90 11 87 56 23 -1]\n",
      " [54 65 89 32 71  9 31]]\n",
      "7\n",
      "[[0 0 0 0 0 0 0]\n",
      " [0 0 0 0 0 0 0]\n",
      " [0 0 0 0 0 0 0]\n",
      " [0 0 0 0 0 0 0]\n",
      " [0 0 0 0 0 0 0]\n",
      " [0 0 0 0 0 0 0]\n",
      " [0 0 0 0 0 0 0]]\n",
      "[[ 10   0   0   0   0   0   0]\n",
      " [ 92  91   0   0   0   0   0]\n",
      " [ 96  98 101   0   0   0   0]\n",
      " [ 98 112 136 108   0   0   0]\n",
      " [139 115 188 162 123   0   0]\n",
      " [171 229 199 275 218 146   0]\n",
      " [225 294 318 307 346 227 177]]\n",
      "346\n"
     ]
    }
   ],
   "source": [
    "import numpy as np\n",
    "\n",
    "def zahlenDreieck(a: list[list[int]]):\n",
    "  print(a)\n",
    "  arrdim = len(a)\n",
    "  print(arrdim)\n",
    "  s = np.zeros((arrdim, arrdim), dtype=int)\n",
    "  print(s)\n",
    "  # Basisfall 1\n",
    "  s[0][0] = a[0][0]\n",
    "\n",
    "  for i in range(1, arrdim):\n",
    "    for j in range(0, i + 1):\n",
    "      # Basisfall 2 (ganze linke Spalte)\n",
    "      if j == 0:\n",
    "        s[i][j] = a[i][j] + s[i - 1][j]\n",
    "      else:\n",
    "        s[i][j] = max(a[i][j] + s[i - 1][j], a[i][j] + s[i - 1][j - 1])\n",
    "\n",
    "  print(s)\n",
    "  maxval = 0\n",
    "  for j in range(0, arrdim):\n",
    "    curr = s[arrdim - 1][j]\n",
    "    if curr > maxval:\n",
    "      maxval = curr\n",
    "  \n",
    "  return maxval\n",
    "\n",
    "board = np.asarray([\n",
    "  [10, -1, -1, -1, -1, -1, -1],\n",
    "  [82, 81, -1, -1, -1, -1, -1],\n",
    "  [4 ,  6, 10, -1, -1, -1, -1],\n",
    "  [2 , 14, 35,  7, -1, -1, -1],\n",
    "  [41,  3, 52, 26, 15, -1, -1],\n",
    "  [32, 90, 11, 87, 56, 23, -1],\n",
    "  [54, 65, 89, 32, 71,  9, 31],\n",
    "])\n",
    "\n",
    "retval = zahlenDreieck(board)\n",
    "print(retval)"
   ]
  }
 ],
 "metadata": {
  "kernelspec": {
   "display_name": "Python 3",
   "language": "python",
   "name": "python3"
  },
  "language_info": {
   "codemirror_mode": {
    "name": "ipython",
    "version": 3
   },
   "file_extension": ".py",
   "mimetype": "text/x-python",
   "name": "python",
   "nbconvert_exporter": "python",
   "pygments_lexer": "ipython3",
   "version": "3.10.11"
  }
 },
 "nbformat": 4,
 "nbformat_minor": 5
}
